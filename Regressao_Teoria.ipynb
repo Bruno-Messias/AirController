{
  "nbformat": 4,
  "nbformat_minor": 0,
  "metadata": {
    "celltoolbar": "Edit Metadata",
    "colab": {
      "name": "Regressao - Teoria.ipynb",
      "provenance": [],
      "collapsed_sections": [
        "qy8-aReVbKne",
        "ell_AsFEbKoI"
      ],
      "include_colab_link": true
    },
    "kernelspec": {
      "display_name": "Python 3",
      "language": "python",
      "name": "python3"
    },
    "language_info": {
      "codemirror_mode": {
        "name": "ipython",
        "version": 3
      },
      "file_extension": ".py",
      "mimetype": "text/x-python",
      "name": "python",
      "nbconvert_exporter": "python",
      "pygments_lexer": "ipython3",
      "version": "3.8.5"
    },
    "toc": {
      "base_numbering": 1,
      "nav_menu": {},
      "number_sections": true,
      "sideBar": true,
      "skip_h1_title": true,
      "title_cell": "Table of Contents",
      "title_sidebar": "Contents",
      "toc_cell": false,
      "toc_position": {
        "height": "calc(100% - 180px)",
        "left": "10px",
        "top": "150px",
        "width": "207px"
      },
      "toc_section_display": true,
      "toc_window_display": true
    },
    "varInspector": {
      "cols": {
        "lenName": 16,
        "lenType": 16,
        "lenVar": 40
      },
      "kernels_config": {
        "python": {
          "delete_cmd_postfix": "",
          "delete_cmd_prefix": "del ",
          "library": "var_list.py",
          "varRefreshCmd": "print(var_dic_list())"
        },
        "r": {
          "delete_cmd_postfix": ") ",
          "delete_cmd_prefix": "rm(",
          "library": "var_list.r",
          "varRefreshCmd": "cat(var_dic_list()) "
        }
      },
      "types_to_exclude": [
        "module",
        "function",
        "builtin_function_or_method",
        "instance",
        "_Feature"
      ],
      "window_display": false
    },
    "widgets": {
      "application/vnd.jupyter.widget-state+json": {
        "8a00f0e3b02049b5bb8b819f8ebb7dc8": {
          "model_module": "@jupyter-widgets/controls",
          "model_name": "VBoxModel",
          "state": {
            "_view_name": "VBoxView",
            "_dom_classes": [
              "widget-interact"
            ],
            "_model_name": "VBoxModel",
            "_view_module": "@jupyter-widgets/controls",
            "_model_module_version": "1.5.0",
            "_view_count": null,
            "_view_module_version": "1.5.0",
            "box_style": "",
            "layout": "IPY_MODEL_6919fed258924c36bd374c752edf6a2b",
            "_model_module": "@jupyter-widgets/controls",
            "children": [
              "IPY_MODEL_fd4e0941f15c48ffae31c7719673d866",
              "IPY_MODEL_3bf0c19d3c37499581c10bbce37146ee",
              "IPY_MODEL_12765452cbd24815b84482149ed95054",
              "IPY_MODEL_e5c1b5e013144c2e85a53349da5cc1da",
              "IPY_MODEL_3fd5a7ae509d4759b53ba819a05e9720",
              "IPY_MODEL_ec6657cb156a426c8ece62fba6215571"
            ]
          }
        },
        "6919fed258924c36bd374c752edf6a2b": {
          "model_module": "@jupyter-widgets/base",
          "model_name": "LayoutModel",
          "state": {
            "_view_name": "LayoutView",
            "grid_template_rows": null,
            "right": null,
            "justify_content": null,
            "_view_module": "@jupyter-widgets/base",
            "overflow": null,
            "_model_module_version": "1.2.0",
            "_view_count": null,
            "flex_flow": null,
            "width": null,
            "min_width": null,
            "border": null,
            "align_items": null,
            "bottom": null,
            "_model_module": "@jupyter-widgets/base",
            "top": null,
            "grid_column": null,
            "overflow_y": null,
            "overflow_x": null,
            "grid_auto_flow": null,
            "grid_area": null,
            "grid_template_columns": null,
            "flex": null,
            "_model_name": "LayoutModel",
            "justify_items": null,
            "grid_row": null,
            "max_height": null,
            "align_content": null,
            "visibility": null,
            "align_self": null,
            "height": null,
            "min_height": null,
            "padding": null,
            "grid_auto_rows": null,
            "grid_gap": null,
            "max_width": null,
            "order": null,
            "_view_module_version": "1.2.0",
            "grid_template_areas": null,
            "object_position": null,
            "object_fit": null,
            "grid_auto_columns": null,
            "margin": null,
            "display": null,
            "left": null
          }
        },
        "fd4e0941f15c48ffae31c7719673d866": {
          "model_module": "@jupyter-widgets/controls",
          "model_name": "IntSliderModel",
          "state": {
            "_view_name": "IntSliderView",
            "style": "IPY_MODEL_c6da78de56ba43e7ac815fcc5d0f2be5",
            "_dom_classes": [],
            "description": "nEstimators",
            "step": 1,
            "_model_name": "IntSliderModel",
            "orientation": "horizontal",
            "max": 1000,
            "_view_module": "@jupyter-widgets/controls",
            "_model_module_version": "1.5.0",
            "value": 310,
            "_view_count": null,
            "disabled": false,
            "_view_module_version": "1.5.0",
            "min": 5,
            "continuous_update": true,
            "readout_format": "d",
            "description_tooltip": null,
            "readout": true,
            "_model_module": "@jupyter-widgets/controls",
            "layout": "IPY_MODEL_93ae65be815d42dc92445f35048e7114"
          }
        },
        "3bf0c19d3c37499581c10bbce37146ee": {
          "model_module": "@jupyter-widgets/controls",
          "model_name": "IntSliderModel",
          "state": {
            "_view_name": "IntSliderView",
            "style": "IPY_MODEL_6dd70d76c1b34b8c898380568bb84622",
            "_dom_classes": [],
            "description": "maxFeatures",
            "step": 1,
            "_model_name": "IntSliderModel",
            "orientation": "horizontal",
            "max": 13,
            "_view_module": "@jupyter-widgets/controls",
            "_model_module_version": "1.5.0",
            "value": 13,
            "_view_count": null,
            "disabled": false,
            "_view_module_version": "1.5.0",
            "min": 2,
            "continuous_update": true,
            "readout_format": "d",
            "description_tooltip": null,
            "readout": true,
            "_model_module": "@jupyter-widgets/controls",
            "layout": "IPY_MODEL_a1095309dcd8482c83a8aac474a8be27"
          }
        },
        "12765452cbd24815b84482149ed95054": {
          "model_module": "@jupyter-widgets/controls",
          "model_name": "IntSliderModel",
          "state": {
            "_view_name": "IntSliderView",
            "style": "IPY_MODEL_f5f1a0937f3b42b49d85b0a32440d836",
            "_dom_classes": [],
            "description": "maxDepth",
            "step": 1,
            "_model_name": "IntSliderModel",
            "orientation": "horizontal",
            "max": 100,
            "_view_module": "@jupyter-widgets/controls",
            "_model_module_version": "1.5.0",
            "value": 50,
            "_view_count": null,
            "disabled": false,
            "_view_module_version": "1.5.0",
            "min": 2,
            "continuous_update": true,
            "readout_format": "d",
            "description_tooltip": null,
            "readout": true,
            "_model_module": "@jupyter-widgets/controls",
            "layout": "IPY_MODEL_8e8f349ed778464aa097824fbc785a0b"
          }
        },
        "e5c1b5e013144c2e85a53349da5cc1da": {
          "model_module": "@jupyter-widgets/controls",
          "model_name": "IntSliderModel",
          "state": {
            "_view_name": "IntSliderView",
            "style": "IPY_MODEL_7bda3c583baf4e9286ffc71085ec5a35",
            "_dom_classes": [],
            "description": "minSamplesSplit",
            "step": 1,
            "_model_name": "IntSliderModel",
            "orientation": "horizontal",
            "max": 30,
            "_view_module": "@jupyter-widgets/controls",
            "_model_module_version": "1.5.0",
            "value": 10,
            "_view_count": null,
            "disabled": false,
            "_view_module_version": "1.5.0",
            "min": 2,
            "continuous_update": true,
            "readout_format": "d",
            "description_tooltip": null,
            "readout": true,
            "_model_module": "@jupyter-widgets/controls",
            "layout": "IPY_MODEL_ddf22b47656647ffbecfc6050b741361"
          }
        },
        "3fd5a7ae509d4759b53ba819a05e9720": {
          "model_module": "@jupyter-widgets/controls",
          "model_name": "ButtonModel",
          "state": {
            "_view_name": "ButtonView",
            "style": "IPY_MODEL_bf7e5cbd82e84be0b11e99c7771036de",
            "_dom_classes": [],
            "description": "Run Interact",
            "_model_name": "ButtonModel",
            "button_style": "",
            "_view_module": "@jupyter-widgets/controls",
            "_model_module_version": "1.5.0",
            "tooltip": "",
            "_view_count": null,
            "disabled": false,
            "_view_module_version": "1.5.0",
            "layout": "IPY_MODEL_31d54b3810e946f79761475f28746813",
            "_model_module": "@jupyter-widgets/controls",
            "icon": ""
          }
        },
        "ec6657cb156a426c8ece62fba6215571": {
          "model_module": "@jupyter-widgets/output",
          "model_name": "OutputModel",
          "state": {
            "_view_name": "OutputView",
            "msg_id": "",
            "_dom_classes": [],
            "_model_name": "OutputModel",
            "outputs": [
              {
                "output_type": "stream",
                "metadata": {
                  "tags": []
                },
                "text": "Score on training set: 0.978\nScore on validation set: 0.794\nExplained variance score: 0.794\nMean absolute error (MAE): 2.268\nMean squared error (MSE): 12.664\nMean squared log error (MSLE): 0.029\nR² Score: 0.794\n",
                "stream": "stdout"
              },
              {
                "output_type": "display_data",
                "metadata": {
                  "tags": [],
                  "needs_background": "light"
                },
                "image/png": "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\n",
                "text/plain": "<Figure size 432x288 with 1 Axes>"
              }
            ],
            "_view_module": "@jupyter-widgets/output",
            "_model_module_version": "1.0.0",
            "_view_count": null,
            "_view_module_version": "1.0.0",
            "layout": "IPY_MODEL_13f4e0226e85471e961c44a09086ce71",
            "_model_module": "@jupyter-widgets/output"
          }
        },
        "c6da78de56ba43e7ac815fcc5d0f2be5": {
          "model_module": "@jupyter-widgets/controls",
          "model_name": "SliderStyleModel",
          "state": {
            "_view_name": "StyleView",
            "handle_color": null,
            "_model_name": "SliderStyleModel",
            "description_width": "",
            "_view_module": "@jupyter-widgets/base",
            "_model_module_version": "1.5.0",
            "_view_count": null,
            "_view_module_version": "1.2.0",
            "_model_module": "@jupyter-widgets/controls"
          }
        },
        "93ae65be815d42dc92445f35048e7114": {
          "model_module": "@jupyter-widgets/base",
          "model_name": "LayoutModel",
          "state": {
            "_view_name": "LayoutView",
            "grid_template_rows": null,
            "right": null,
            "justify_content": null,
            "_view_module": "@jupyter-widgets/base",
            "overflow": null,
            "_model_module_version": "1.2.0",
            "_view_count": null,
            "flex_flow": null,
            "width": null,
            "min_width": null,
            "border": null,
            "align_items": null,
            "bottom": null,
            "_model_module": "@jupyter-widgets/base",
            "top": null,
            "grid_column": null,
            "overflow_y": null,
            "overflow_x": null,
            "grid_auto_flow": null,
            "grid_area": null,
            "grid_template_columns": null,
            "flex": null,
            "_model_name": "LayoutModel",
            "justify_items": null,
            "grid_row": null,
            "max_height": null,
            "align_content": null,
            "visibility": null,
            "align_self": null,
            "height": null,
            "min_height": null,
            "padding": null,
            "grid_auto_rows": null,
            "grid_gap": null,
            "max_width": null,
            "order": null,
            "_view_module_version": "1.2.0",
            "grid_template_areas": null,
            "object_position": null,
            "object_fit": null,
            "grid_auto_columns": null,
            "margin": null,
            "display": null,
            "left": null
          }
        },
        "6dd70d76c1b34b8c898380568bb84622": {
          "model_module": "@jupyter-widgets/controls",
          "model_name": "SliderStyleModel",
          "state": {
            "_view_name": "StyleView",
            "handle_color": null,
            "_model_name": "SliderStyleModel",
            "description_width": "",
            "_view_module": "@jupyter-widgets/base",
            "_model_module_version": "1.5.0",
            "_view_count": null,
            "_view_module_version": "1.2.0",
            "_model_module": "@jupyter-widgets/controls"
          }
        },
        "a1095309dcd8482c83a8aac474a8be27": {
          "model_module": "@jupyter-widgets/base",
          "model_name": "LayoutModel",
          "state": {
            "_view_name": "LayoutView",
            "grid_template_rows": null,
            "right": null,
            "justify_content": null,
            "_view_module": "@jupyter-widgets/base",
            "overflow": null,
            "_model_module_version": "1.2.0",
            "_view_count": null,
            "flex_flow": null,
            "width": null,
            "min_width": null,
            "border": null,
            "align_items": null,
            "bottom": null,
            "_model_module": "@jupyter-widgets/base",
            "top": null,
            "grid_column": null,
            "overflow_y": null,
            "overflow_x": null,
            "grid_auto_flow": null,
            "grid_area": null,
            "grid_template_columns": null,
            "flex": null,
            "_model_name": "LayoutModel",
            "justify_items": null,
            "grid_row": null,
            "max_height": null,
            "align_content": null,
            "visibility": null,
            "align_self": null,
            "height": null,
            "min_height": null,
            "padding": null,
            "grid_auto_rows": null,
            "grid_gap": null,
            "max_width": null,
            "order": null,
            "_view_module_version": "1.2.0",
            "grid_template_areas": null,
            "object_position": null,
            "object_fit": null,
            "grid_auto_columns": null,
            "margin": null,
            "display": null,
            "left": null
          }
        },
        "f5f1a0937f3b42b49d85b0a32440d836": {
          "model_module": "@jupyter-widgets/controls",
          "model_name": "SliderStyleModel",
          "state": {
            "_view_name": "StyleView",
            "handle_color": null,
            "_model_name": "SliderStyleModel",
            "description_width": "",
            "_view_module": "@jupyter-widgets/base",
            "_model_module_version": "1.5.0",
            "_view_count": null,
            "_view_module_version": "1.2.0",
            "_model_module": "@jupyter-widgets/controls"
          }
        },
        "8e8f349ed778464aa097824fbc785a0b": {
          "model_module": "@jupyter-widgets/base",
          "model_name": "LayoutModel",
          "state": {
            "_view_name": "LayoutView",
            "grid_template_rows": null,
            "right": null,
            "justify_content": null,
            "_view_module": "@jupyter-widgets/base",
            "overflow": null,
            "_model_module_version": "1.2.0",
            "_view_count": null,
            "flex_flow": null,
            "width": null,
            "min_width": null,
            "border": null,
            "align_items": null,
            "bottom": null,
            "_model_module": "@jupyter-widgets/base",
            "top": null,
            "grid_column": null,
            "overflow_y": null,
            "overflow_x": null,
            "grid_auto_flow": null,
            "grid_area": null,
            "grid_template_columns": null,
            "flex": null,
            "_model_name": "LayoutModel",
            "justify_items": null,
            "grid_row": null,
            "max_height": null,
            "align_content": null,
            "visibility": null,
            "align_self": null,
            "height": null,
            "min_height": null,
            "padding": null,
            "grid_auto_rows": null,
            "grid_gap": null,
            "max_width": null,
            "order": null,
            "_view_module_version": "1.2.0",
            "grid_template_areas": null,
            "object_position": null,
            "object_fit": null,
            "grid_auto_columns": null,
            "margin": null,
            "display": null,
            "left": null
          }
        },
        "7bda3c583baf4e9286ffc71085ec5a35": {
          "model_module": "@jupyter-widgets/controls",
          "model_name": "SliderStyleModel",
          "state": {
            "_view_name": "StyleView",
            "handle_color": null,
            "_model_name": "SliderStyleModel",
            "description_width": "",
            "_view_module": "@jupyter-widgets/base",
            "_model_module_version": "1.5.0",
            "_view_count": null,
            "_view_module_version": "1.2.0",
            "_model_module": "@jupyter-widgets/controls"
          }
        },
        "ddf22b47656647ffbecfc6050b741361": {
          "model_module": "@jupyter-widgets/base",
          "model_name": "LayoutModel",
          "state": {
            "_view_name": "LayoutView",
            "grid_template_rows": null,
            "right": null,
            "justify_content": null,
            "_view_module": "@jupyter-widgets/base",
            "overflow": null,
            "_model_module_version": "1.2.0",
            "_view_count": null,
            "flex_flow": null,
            "width": null,
            "min_width": null,
            "border": null,
            "align_items": null,
            "bottom": null,
            "_model_module": "@jupyter-widgets/base",
            "top": null,
            "grid_column": null,
            "overflow_y": null,
            "overflow_x": null,
            "grid_auto_flow": null,
            "grid_area": null,
            "grid_template_columns": null,
            "flex": null,
            "_model_name": "LayoutModel",
            "justify_items": null,
            "grid_row": null,
            "max_height": null,
            "align_content": null,
            "visibility": null,
            "align_self": null,
            "height": null,
            "min_height": null,
            "padding": null,
            "grid_auto_rows": null,
            "grid_gap": null,
            "max_width": null,
            "order": null,
            "_view_module_version": "1.2.0",
            "grid_template_areas": null,
            "object_position": null,
            "object_fit": null,
            "grid_auto_columns": null,
            "margin": null,
            "display": null,
            "left": null
          }
        },
        "bf7e5cbd82e84be0b11e99c7771036de": {
          "model_module": "@jupyter-widgets/controls",
          "model_name": "ButtonStyleModel",
          "state": {
            "_view_name": "StyleView",
            "_model_name": "ButtonStyleModel",
            "_view_module": "@jupyter-widgets/base",
            "_model_module_version": "1.5.0",
            "_view_count": null,
            "button_color": null,
            "font_weight": "",
            "_view_module_version": "1.2.0",
            "_model_module": "@jupyter-widgets/controls"
          }
        },
        "31d54b3810e946f79761475f28746813": {
          "model_module": "@jupyter-widgets/base",
          "model_name": "LayoutModel",
          "state": {
            "_view_name": "LayoutView",
            "grid_template_rows": null,
            "right": null,
            "justify_content": null,
            "_view_module": "@jupyter-widgets/base",
            "overflow": null,
            "_model_module_version": "1.2.0",
            "_view_count": null,
            "flex_flow": null,
            "width": null,
            "min_width": null,
            "border": null,
            "align_items": null,
            "bottom": null,
            "_model_module": "@jupyter-widgets/base",
            "top": null,
            "grid_column": null,
            "overflow_y": null,
            "overflow_x": null,
            "grid_auto_flow": null,
            "grid_area": null,
            "grid_template_columns": null,
            "flex": null,
            "_model_name": "LayoutModel",
            "justify_items": null,
            "grid_row": null,
            "max_height": null,
            "align_content": null,
            "visibility": null,
            "align_self": null,
            "height": null,
            "min_height": null,
            "padding": null,
            "grid_auto_rows": null,
            "grid_gap": null,
            "max_width": null,
            "order": null,
            "_view_module_version": "1.2.0",
            "grid_template_areas": null,
            "object_position": null,
            "object_fit": null,
            "grid_auto_columns": null,
            "margin": null,
            "display": null,
            "left": null
          }
        },
        "13f4e0226e85471e961c44a09086ce71": {
          "model_module": "@jupyter-widgets/base",
          "model_name": "LayoutModel",
          "state": {
            "_view_name": "LayoutView",
            "grid_template_rows": null,
            "right": null,
            "justify_content": null,
            "_view_module": "@jupyter-widgets/base",
            "overflow": null,
            "_model_module_version": "1.2.0",
            "_view_count": null,
            "flex_flow": null,
            "width": null,
            "min_width": null,
            "border": null,
            "align_items": null,
            "bottom": null,
            "_model_module": "@jupyter-widgets/base",
            "top": null,
            "grid_column": null,
            "overflow_y": null,
            "overflow_x": null,
            "grid_auto_flow": null,
            "grid_area": null,
            "grid_template_columns": null,
            "flex": null,
            "_model_name": "LayoutModel",
            "justify_items": null,
            "grid_row": null,
            "max_height": null,
            "align_content": null,
            "visibility": null,
            "align_self": null,
            "height": null,
            "min_height": null,
            "padding": null,
            "grid_auto_rows": null,
            "grid_gap": null,
            "max_width": null,
            "order": null,
            "_view_module_version": "1.2.0",
            "grid_template_areas": null,
            "object_position": null,
            "object_fit": null,
            "grid_auto_columns": null,
            "margin": null,
            "display": null,
            "left": null
          }
        },
        "935b775d8be14a5aaf3dc533090a6861": {
          "model_module": "@jupyter-widgets/controls",
          "model_name": "VBoxModel",
          "state": {
            "_view_name": "VBoxView",
            "_dom_classes": [
              "widget-interact"
            ],
            "_model_name": "VBoxModel",
            "_view_module": "@jupyter-widgets/controls",
            "_model_module_version": "1.5.0",
            "_view_count": null,
            "_view_module_version": "1.5.0",
            "box_style": "",
            "layout": "IPY_MODEL_4adeff7dd89c4e1995eb6704a73e2faf",
            "_model_module": "@jupyter-widgets/controls",
            "children": [
              "IPY_MODEL_9f26fb7684ec4852b45a316a4cd442af",
              "IPY_MODEL_8afbabca80aa4bb58363407627407077",
              "IPY_MODEL_a773f41162b842eb8e870c4c777d1bcd",
              "IPY_MODEL_73bb283b6ee34961a1c1a78561a86e41",
              "IPY_MODEL_146b6f5cf55241e58cfda892d88b4925",
              "IPY_MODEL_aeba8d1fad8c4bcd885232c0701994e1",
              "IPY_MODEL_8ee6d5f0792b4a058c57ad6530d94147",
              "IPY_MODEL_d78b1eddba51459f8931ad1fae6cf9cb"
            ]
          }
        },
        "4adeff7dd89c4e1995eb6704a73e2faf": {
          "model_module": "@jupyter-widgets/base",
          "model_name": "LayoutModel",
          "state": {
            "_view_name": "LayoutView",
            "grid_template_rows": null,
            "right": null,
            "justify_content": null,
            "_view_module": "@jupyter-widgets/base",
            "overflow": null,
            "_model_module_version": "1.2.0",
            "_view_count": null,
            "flex_flow": null,
            "width": null,
            "min_width": null,
            "border": null,
            "align_items": null,
            "bottom": null,
            "_model_module": "@jupyter-widgets/base",
            "top": null,
            "grid_column": null,
            "overflow_y": null,
            "overflow_x": null,
            "grid_auto_flow": null,
            "grid_area": null,
            "grid_template_columns": null,
            "flex": null,
            "_model_name": "LayoutModel",
            "justify_items": null,
            "grid_row": null,
            "max_height": null,
            "align_content": null,
            "visibility": null,
            "align_self": null,
            "height": null,
            "min_height": null,
            "padding": null,
            "grid_auto_rows": null,
            "grid_gap": null,
            "max_width": null,
            "order": null,
            "_view_module_version": "1.2.0",
            "grid_template_areas": null,
            "object_position": null,
            "object_fit": null,
            "grid_auto_columns": null,
            "margin": null,
            "display": null,
            "left": null
          }
        },
        "9f26fb7684ec4852b45a316a4cd442af": {
          "model_module": "@jupyter-widgets/controls",
          "model_name": "IntSliderModel",
          "state": {
            "_view_name": "IntSliderView",
            "style": "IPY_MODEL_aa1623cb8c0b49c6812683290588d466",
            "_dom_classes": [],
            "description": "maxDepth",
            "step": 1,
            "_model_name": "IntSliderModel",
            "orientation": "horizontal",
            "max": 50,
            "_view_module": "@jupyter-widgets/controls",
            "_model_module_version": "1.5.0",
            "value": 20,
            "_view_count": null,
            "disabled": false,
            "_view_module_version": "1.5.0",
            "min": 2,
            "continuous_update": true,
            "readout_format": "d",
            "description_tooltip": null,
            "readout": true,
            "_model_module": "@jupyter-widgets/controls",
            "layout": "IPY_MODEL_cf5d1cf1511343409f1712ba78efd43c"
          }
        },
        "8afbabca80aa4bb58363407627407077": {
          "model_module": "@jupyter-widgets/controls",
          "model_name": "FloatSliderModel",
          "state": {
            "_view_name": "FloatSliderView",
            "style": "IPY_MODEL_7a568b111b764c74be1574b990b2a03b",
            "_dom_classes": [],
            "description": "learningRate",
            "step": 0.001,
            "_model_name": "FloatSliderModel",
            "orientation": "horizontal",
            "max": 0.3,
            "_view_module": "@jupyter-widgets/controls",
            "_model_module_version": "1.5.0",
            "value": 0.1,
            "_view_count": null,
            "disabled": false,
            "_view_module_version": "1.5.0",
            "min": 0.001,
            "continuous_update": true,
            "readout_format": ".2f",
            "description_tooltip": null,
            "readout": true,
            "_model_module": "@jupyter-widgets/controls",
            "layout": "IPY_MODEL_8d668d7a1de24878b12179f493ac1024"
          }
        },
        "a773f41162b842eb8e870c4c777d1bcd": {
          "model_module": "@jupyter-widgets/controls",
          "model_name": "IntSliderModel",
          "state": {
            "_view_name": "IntSliderView",
            "style": "IPY_MODEL_5debfa1dff7a47f48d9d27614367d4f6",
            "_dom_classes": [],
            "description": "numIterations",
            "step": 20,
            "_model_name": "IntSliderModel",
            "orientation": "horizontal",
            "max": 600,
            "_view_module": "@jupyter-widgets/controls",
            "_model_module_version": "1.5.0",
            "value": 100,
            "_view_count": null,
            "disabled": false,
            "_view_module_version": "1.5.0",
            "min": 20,
            "continuous_update": true,
            "readout_format": "d",
            "description_tooltip": null,
            "readout": true,
            "_model_module": "@jupyter-widgets/controls",
            "layout": "IPY_MODEL_81357945b8e946acbe6f4735655f7dca"
          }
        },
        "73bb283b6ee34961a1c1a78561a86e41": {
          "model_module": "@jupyter-widgets/controls",
          "model_name": "IntSliderModel",
          "state": {
            "_view_name": "IntSliderView",
            "style": "IPY_MODEL_94d893737f0644138b4daaee42a4c1a2",
            "_dom_classes": [],
            "description": "numLeaves",
            "step": 20,
            "_model_name": "IntSliderModel",
            "orientation": "horizontal",
            "max": 300,
            "_view_module": "@jupyter-widgets/controls",
            "_model_module_version": "1.5.0",
            "value": 100,
            "_view_count": null,
            "disabled": false,
            "_view_module_version": "1.5.0",
            "min": 20,
            "continuous_update": true,
            "readout_format": "d",
            "description_tooltip": null,
            "readout": true,
            "_model_module": "@jupyter-widgets/controls",
            "layout": "IPY_MODEL_d1840f08b33f4e8d88a91a909efe55e2"
          }
        },
        "146b6f5cf55241e58cfda892d88b4925": {
          "model_module": "@jupyter-widgets/controls",
          "model_name": "IntSliderModel",
          "state": {
            "_view_name": "IntSliderView",
            "style": "IPY_MODEL_70e98a34b7fd4b6ca644a7acea6f9323",
            "_dom_classes": [],
            "description": "minDataInLeaf",
            "step": 1,
            "_model_name": "IntSliderModel",
            "orientation": "horizontal",
            "max": 50,
            "_view_module": "@jupyter-widgets/controls",
            "_model_module_version": "1.5.0",
            "value": 20,
            "_view_count": null,
            "disabled": false,
            "_view_module_version": "1.5.0",
            "min": 2,
            "continuous_update": true,
            "readout_format": "d",
            "description_tooltip": null,
            "readout": true,
            "_model_module": "@jupyter-widgets/controls",
            "layout": "IPY_MODEL_8f4eab7cb11541cc8b2703cdc9e35ffa"
          }
        },
        "aeba8d1fad8c4bcd885232c0701994e1": {
          "model_module": "@jupyter-widgets/controls",
          "model_name": "FloatSliderModel",
          "state": {
            "_view_name": "FloatSliderView",
            "style": "IPY_MODEL_e0f56530a0914ef4ba1e1edd4f2c14ec",
            "_dom_classes": [],
            "description": "minGainToSplit",
            "step": 1,
            "_model_name": "FloatSliderModel",
            "orientation": "horizontal",
            "max": 30,
            "_view_module": "@jupyter-widgets/controls",
            "_model_module_version": "1.5.0",
            "value": 0,
            "_view_count": null,
            "disabled": false,
            "_view_module_version": "1.5.0",
            "min": 0,
            "continuous_update": true,
            "readout_format": ".2f",
            "description_tooltip": null,
            "readout": true,
            "_model_module": "@jupyter-widgets/controls",
            "layout": "IPY_MODEL_29323275973b4ae49fee2d89f42ffb53"
          }
        },
        "8ee6d5f0792b4a058c57ad6530d94147": {
          "model_module": "@jupyter-widgets/controls",
          "model_name": "ButtonModel",
          "state": {
            "_view_name": "ButtonView",
            "style": "IPY_MODEL_de4bebb7b7c54c2badb6e9b1a007fdd4",
            "_dom_classes": [],
            "description": "Run Interact",
            "_model_name": "ButtonModel",
            "button_style": "",
            "_view_module": "@jupyter-widgets/controls",
            "_model_module_version": "1.5.0",
            "tooltip": "",
            "_view_count": null,
            "disabled": false,
            "_view_module_version": "1.5.0",
            "layout": "IPY_MODEL_7c625e15c17c404ba9594b3d43fa81f3",
            "_model_module": "@jupyter-widgets/controls",
            "icon": ""
          }
        },
        "d78b1eddba51459f8931ad1fae6cf9cb": {
          "model_module": "@jupyter-widgets/output",
          "model_name": "OutputModel",
          "state": {
            "_view_name": "OutputView",
            "msg_id": "",
            "_dom_classes": [],
            "_model_name": "OutputModel",
            "outputs": [],
            "_view_module": "@jupyter-widgets/output",
            "_model_module_version": "1.0.0",
            "_view_count": null,
            "_view_module_version": "1.0.0",
            "layout": "IPY_MODEL_b681b7a736a243d4ab58128aec34b43e",
            "_model_module": "@jupyter-widgets/output"
          }
        },
        "aa1623cb8c0b49c6812683290588d466": {
          "model_module": "@jupyter-widgets/controls",
          "model_name": "SliderStyleModel",
          "state": {
            "_view_name": "StyleView",
            "handle_color": null,
            "_model_name": "SliderStyleModel",
            "description_width": "",
            "_view_module": "@jupyter-widgets/base",
            "_model_module_version": "1.5.0",
            "_view_count": null,
            "_view_module_version": "1.2.0",
            "_model_module": "@jupyter-widgets/controls"
          }
        },
        "cf5d1cf1511343409f1712ba78efd43c": {
          "model_module": "@jupyter-widgets/base",
          "model_name": "LayoutModel",
          "state": {
            "_view_name": "LayoutView",
            "grid_template_rows": null,
            "right": null,
            "justify_content": null,
            "_view_module": "@jupyter-widgets/base",
            "overflow": null,
            "_model_module_version": "1.2.0",
            "_view_count": null,
            "flex_flow": null,
            "width": null,
            "min_width": null,
            "border": null,
            "align_items": null,
            "bottom": null,
            "_model_module": "@jupyter-widgets/base",
            "top": null,
            "grid_column": null,
            "overflow_y": null,
            "overflow_x": null,
            "grid_auto_flow": null,
            "grid_area": null,
            "grid_template_columns": null,
            "flex": null,
            "_model_name": "LayoutModel",
            "justify_items": null,
            "grid_row": null,
            "max_height": null,
            "align_content": null,
            "visibility": null,
            "align_self": null,
            "height": null,
            "min_height": null,
            "padding": null,
            "grid_auto_rows": null,
            "grid_gap": null,
            "max_width": null,
            "order": null,
            "_view_module_version": "1.2.0",
            "grid_template_areas": null,
            "object_position": null,
            "object_fit": null,
            "grid_auto_columns": null,
            "margin": null,
            "display": null,
            "left": null
          }
        },
        "7a568b111b764c74be1574b990b2a03b": {
          "model_module": "@jupyter-widgets/controls",
          "model_name": "SliderStyleModel",
          "state": {
            "_view_name": "StyleView",
            "handle_color": null,
            "_model_name": "SliderStyleModel",
            "description_width": "",
            "_view_module": "@jupyter-widgets/base",
            "_model_module_version": "1.5.0",
            "_view_count": null,
            "_view_module_version": "1.2.0",
            "_model_module": "@jupyter-widgets/controls"
          }
        },
        "8d668d7a1de24878b12179f493ac1024": {
          "model_module": "@jupyter-widgets/base",
          "model_name": "LayoutModel",
          "state": {
            "_view_name": "LayoutView",
            "grid_template_rows": null,
            "right": null,
            "justify_content": null,
            "_view_module": "@jupyter-widgets/base",
            "overflow": null,
            "_model_module_version": "1.2.0",
            "_view_count": null,
            "flex_flow": null,
            "width": null,
            "min_width": null,
            "border": null,
            "align_items": null,
            "bottom": null,
            "_model_module": "@jupyter-widgets/base",
            "top": null,
            "grid_column": null,
            "overflow_y": null,
            "overflow_x": null,
            "grid_auto_flow": null,
            "grid_area": null,
            "grid_template_columns": null,
            "flex": null,
            "_model_name": "LayoutModel",
            "justify_items": null,
            "grid_row": null,
            "max_height": null,
            "align_content": null,
            "visibility": null,
            "align_self": null,
            "height": null,
            "min_height": null,
            "padding": null,
            "grid_auto_rows": null,
            "grid_gap": null,
            "max_width": null,
            "order": null,
            "_view_module_version": "1.2.0",
            "grid_template_areas": null,
            "object_position": null,
            "object_fit": null,
            "grid_auto_columns": null,
            "margin": null,
            "display": null,
            "left": null
          }
        },
        "5debfa1dff7a47f48d9d27614367d4f6": {
          "model_module": "@jupyter-widgets/controls",
          "model_name": "SliderStyleModel",
          "state": {
            "_view_name": "StyleView",
            "handle_color": null,
            "_model_name": "SliderStyleModel",
            "description_width": "",
            "_view_module": "@jupyter-widgets/base",
            "_model_module_version": "1.5.0",
            "_view_count": null,
            "_view_module_version": "1.2.0",
            "_model_module": "@jupyter-widgets/controls"
          }
        },
        "81357945b8e946acbe6f4735655f7dca": {
          "model_module": "@jupyter-widgets/base",
          "model_name": "LayoutModel",
          "state": {
            "_view_name": "LayoutView",
            "grid_template_rows": null,
            "right": null,
            "justify_content": null,
            "_view_module": "@jupyter-widgets/base",
            "overflow": null,
            "_model_module_version": "1.2.0",
            "_view_count": null,
            "flex_flow": null,
            "width": null,
            "min_width": null,
            "border": null,
            "align_items": null,
            "bottom": null,
            "_model_module": "@jupyter-widgets/base",
            "top": null,
            "grid_column": null,
            "overflow_y": null,
            "overflow_x": null,
            "grid_auto_flow": null,
            "grid_area": null,
            "grid_template_columns": null,
            "flex": null,
            "_model_name": "LayoutModel",
            "justify_items": null,
            "grid_row": null,
            "max_height": null,
            "align_content": null,
            "visibility": null,
            "align_self": null,
            "height": null,
            "min_height": null,
            "padding": null,
            "grid_auto_rows": null,
            "grid_gap": null,
            "max_width": null,
            "order": null,
            "_view_module_version": "1.2.0",
            "grid_template_areas": null,
            "object_position": null,
            "object_fit": null,
            "grid_auto_columns": null,
            "margin": null,
            "display": null,
            "left": null
          }
        },
        "94d893737f0644138b4daaee42a4c1a2": {
          "model_module": "@jupyter-widgets/controls",
          "model_name": "SliderStyleModel",
          "state": {
            "_view_name": "StyleView",
            "handle_color": null,
            "_model_name": "SliderStyleModel",
            "description_width": "",
            "_view_module": "@jupyter-widgets/base",
            "_model_module_version": "1.5.0",
            "_view_count": null,
            "_view_module_version": "1.2.0",
            "_model_module": "@jupyter-widgets/controls"
          }
        },
        "d1840f08b33f4e8d88a91a909efe55e2": {
          "model_module": "@jupyter-widgets/base",
          "model_name": "LayoutModel",
          "state": {
            "_view_name": "LayoutView",
            "grid_template_rows": null,
            "right": null,
            "justify_content": null,
            "_view_module": "@jupyter-widgets/base",
            "overflow": null,
            "_model_module_version": "1.2.0",
            "_view_count": null,
            "flex_flow": null,
            "width": null,
            "min_width": null,
            "border": null,
            "align_items": null,
            "bottom": null,
            "_model_module": "@jupyter-widgets/base",
            "top": null,
            "grid_column": null,
            "overflow_y": null,
            "overflow_x": null,
            "grid_auto_flow": null,
            "grid_area": null,
            "grid_template_columns": null,
            "flex": null,
            "_model_name": "LayoutModel",
            "justify_items": null,
            "grid_row": null,
            "max_height": null,
            "align_content": null,
            "visibility": null,
            "align_self": null,
            "height": null,
            "min_height": null,
            "padding": null,
            "grid_auto_rows": null,
            "grid_gap": null,
            "max_width": null,
            "order": null,
            "_view_module_version": "1.2.0",
            "grid_template_areas": null,
            "object_position": null,
            "object_fit": null,
            "grid_auto_columns": null,
            "margin": null,
            "display": null,
            "left": null
          }
        },
        "70e98a34b7fd4b6ca644a7acea6f9323": {
          "model_module": "@jupyter-widgets/controls",
          "model_name": "SliderStyleModel",
          "state": {
            "_view_name": "StyleView",
            "handle_color": null,
            "_model_name": "SliderStyleModel",
            "description_width": "",
            "_view_module": "@jupyter-widgets/base",
            "_model_module_version": "1.5.0",
            "_view_count": null,
            "_view_module_version": "1.2.0",
            "_model_module": "@jupyter-widgets/controls"
          }
        },
        "8f4eab7cb11541cc8b2703cdc9e35ffa": {
          "model_module": "@jupyter-widgets/base",
          "model_name": "LayoutModel",
          "state": {
            "_view_name": "LayoutView",
            "grid_template_rows": null,
            "right": null,
            "justify_content": null,
            "_view_module": "@jupyter-widgets/base",
            "overflow": null,
            "_model_module_version": "1.2.0",
            "_view_count": null,
            "flex_flow": null,
            "width": null,
            "min_width": null,
            "border": null,
            "align_items": null,
            "bottom": null,
            "_model_module": "@jupyter-widgets/base",
            "top": null,
            "grid_column": null,
            "overflow_y": null,
            "overflow_x": null,
            "grid_auto_flow": null,
            "grid_area": null,
            "grid_template_columns": null,
            "flex": null,
            "_model_name": "LayoutModel",
            "justify_items": null,
            "grid_row": null,
            "max_height": null,
            "align_content": null,
            "visibility": null,
            "align_self": null,
            "height": null,
            "min_height": null,
            "padding": null,
            "grid_auto_rows": null,
            "grid_gap": null,
            "max_width": null,
            "order": null,
            "_view_module_version": "1.2.0",
            "grid_template_areas": null,
            "object_position": null,
            "object_fit": null,
            "grid_auto_columns": null,
            "margin": null,
            "display": null,
            "left": null
          }
        },
        "e0f56530a0914ef4ba1e1edd4f2c14ec": {
          "model_module": "@jupyter-widgets/controls",
          "model_name": "SliderStyleModel",
          "state": {
            "_view_name": "StyleView",
            "handle_color": null,
            "_model_name": "SliderStyleModel",
            "description_width": "",
            "_view_module": "@jupyter-widgets/base",
            "_model_module_version": "1.5.0",
            "_view_count": null,
            "_view_module_version": "1.2.0",
            "_model_module": "@jupyter-widgets/controls"
          }
        },
        "29323275973b4ae49fee2d89f42ffb53": {
          "model_module": "@jupyter-widgets/base",
          "model_name": "LayoutModel",
          "state": {
            "_view_name": "LayoutView",
            "grid_template_rows": null,
            "right": null,
            "justify_content": null,
            "_view_module": "@jupyter-widgets/base",
            "overflow": null,
            "_model_module_version": "1.2.0",
            "_view_count": null,
            "flex_flow": null,
            "width": null,
            "min_width": null,
            "border": null,
            "align_items": null,
            "bottom": null,
            "_model_module": "@jupyter-widgets/base",
            "top": null,
            "grid_column": null,
            "overflow_y": null,
            "overflow_x": null,
            "grid_auto_flow": null,
            "grid_area": null,
            "grid_template_columns": null,
            "flex": null,
            "_model_name": "LayoutModel",
            "justify_items": null,
            "grid_row": null,
            "max_height": null,
            "align_content": null,
            "visibility": null,
            "align_self": null,
            "height": null,
            "min_height": null,
            "padding": null,
            "grid_auto_rows": null,
            "grid_gap": null,
            "max_width": null,
            "order": null,
            "_view_module_version": "1.2.0",
            "grid_template_areas": null,
            "object_position": null,
            "object_fit": null,
            "grid_auto_columns": null,
            "margin": null,
            "display": null,
            "left": null
          }
        },
        "de4bebb7b7c54c2badb6e9b1a007fdd4": {
          "model_module": "@jupyter-widgets/controls",
          "model_name": "ButtonStyleModel",
          "state": {
            "_view_name": "StyleView",
            "_model_name": "ButtonStyleModel",
            "_view_module": "@jupyter-widgets/base",
            "_model_module_version": "1.5.0",
            "_view_count": null,
            "button_color": null,
            "font_weight": "",
            "_view_module_version": "1.2.0",
            "_model_module": "@jupyter-widgets/controls"
          }
        },
        "7c625e15c17c404ba9594b3d43fa81f3": {
          "model_module": "@jupyter-widgets/base",
          "model_name": "LayoutModel",
          "state": {
            "_view_name": "LayoutView",
            "grid_template_rows": null,
            "right": null,
            "justify_content": null,
            "_view_module": "@jupyter-widgets/base",
            "overflow": null,
            "_model_module_version": "1.2.0",
            "_view_count": null,
            "flex_flow": null,
            "width": null,
            "min_width": null,
            "border": null,
            "align_items": null,
            "bottom": null,
            "_model_module": "@jupyter-widgets/base",
            "top": null,
            "grid_column": null,
            "overflow_y": null,
            "overflow_x": null,
            "grid_auto_flow": null,
            "grid_area": null,
            "grid_template_columns": null,
            "flex": null,
            "_model_name": "LayoutModel",
            "justify_items": null,
            "grid_row": null,
            "max_height": null,
            "align_content": null,
            "visibility": null,
            "align_self": null,
            "height": null,
            "min_height": null,
            "padding": null,
            "grid_auto_rows": null,
            "grid_gap": null,
            "max_width": null,
            "order": null,
            "_view_module_version": "1.2.0",
            "grid_template_areas": null,
            "object_position": null,
            "object_fit": null,
            "grid_auto_columns": null,
            "margin": null,
            "display": null,
            "left": null
          }
        },
        "b681b7a736a243d4ab58128aec34b43e": {
          "model_module": "@jupyter-widgets/base",
          "model_name": "LayoutModel",
          "state": {
            "_view_name": "LayoutView",
            "grid_template_rows": null,
            "right": null,
            "justify_content": null,
            "_view_module": "@jupyter-widgets/base",
            "overflow": null,
            "_model_module_version": "1.2.0",
            "_view_count": null,
            "flex_flow": null,
            "width": null,
            "min_width": null,
            "border": null,
            "align_items": null,
            "bottom": null,
            "_model_module": "@jupyter-widgets/base",
            "top": null,
            "grid_column": null,
            "overflow_y": null,
            "overflow_x": null,
            "grid_auto_flow": null,
            "grid_area": null,
            "grid_template_columns": null,
            "flex": null,
            "_model_name": "LayoutModel",
            "justify_items": null,
            "grid_row": null,
            "max_height": null,
            "align_content": null,
            "visibility": null,
            "align_self": null,
            "height": null,
            "min_height": null,
            "padding": null,
            "grid_auto_rows": null,
            "grid_gap": null,
            "max_width": null,
            "order": null,
            "_view_module_version": "1.2.0",
            "grid_template_areas": null,
            "object_position": null,
            "object_fit": null,
            "grid_auto_columns": null,
            "margin": null,
            "display": null,
            "left": null
          }
        }
      }
    }
  },
  "cells": [
    {
      "cell_type": "markdown",
      "metadata": {
        "id": "view-in-github",
        "colab_type": "text"
      },
      "source": [
        "<a href=\"https://colab.research.google.com/github/Bruno-Messias/AirController/blob/Dev/Regressao_Teoria.ipynb\" target=\"_parent\"><img src=\"https://colab.research.google.com/assets/colab-badge.svg\" alt=\"Open In Colab\"/></a>"
      ]
    },
    {
      "cell_type": "markdown",
      "metadata": {
        "id": "gTh4frkWbKmm"
      },
      "source": [
        "# <center>Regressão - Teoria</center>\n",
        "___"
      ]
    },
    {
      "cell_type": "markdown",
      "metadata": {
        "id": "HaiL6EjTbKmp"
      },
      "source": [
        "## Conteúdo\n",
        "1. [Relembrando](#recap) <br>\n",
        "2. [Definição do Problema](#problem_def) <br>\n",
        "3. [Análise inicial](#initial_analysis) <br>\n",
        "4. [Separação de Treino e Teste](#split) <br>\n",
        "5. [Modelagem](#modeling) <br>\n",
        "6. [Avaliação do Modelo](#eval) <br>\n",
        "[Saiba Mais](#digdeeper)\n",
        "\n",
        "<a id=\"dsprecap\"></a>\n",
        "## Data Science Pipeline (DSP)\n",
        "1. Definição do Problema / Definição do Escopo\n",
        "2. Definição das Métricas de Sucesso\n",
        "3. Definição dos Dados Necessários\n",
        "4. Aquisição de Dados\n",
        "5. Pré-processamento de Dados\n",
        "6. Análise Exploratória de Dados (E.D.A.)\n",
        "7. <i>Feature Engineering</i>\n",
        "8. Construção e Avaliação do Modelo\n",
        "9. Comunicação dos Resultados\n",
        "10. Implantação\n",
        "11. Monitoramento e Manutenção\n",
        "\n",
        "**Essa aula tratará principalmente do passo 8, para os casos de modelos regressivos.**"
      ]
    },
    {
      "cell_type": "markdown",
      "metadata": {
        "id": "q-ZbQxNWbKmq"
      },
      "source": [
        "<a id=\"recap\"></a>\n",
        "## 1. Relembrando"
      ]
    },
    {
      "cell_type": "markdown",
      "metadata": {
        "id": "xob1tmdHbKmt"
      },
      "source": [
        "Olá! Na última aula nos exploramos os problemas de classificação. Já sabemos como construir modelos que indicam, por exemplo, se vai chover ou não amanhã, ou se o resultado de uma partida de futebol gaélico (ou futebol irlandês) será um empate, vitória ou derrota para um dos times.\n",
        "\n",
        "<img src = http://image.vovworld.vn/w730/uploaded/vovworld/asfzyrvslys/2016_04_22/it%20had%20goals,%20it%20had%20fights,%20it%20had%20dubious%20decisions,%20it%20had%20end-to-end%20football%20and%20even%20had%20blanket%20defences%20at%20times.jpg width = 400>\n",
        "\n",
        "Achando que já sabe resolver todos os problemas de <i>machine learning</i> já? Muita calma nessa hora! Imagine que você tem uma filha e quer prever com qual idade ela terá o primeiro filho. Esse não é um problema de classificação: a resposta para essa questão é um número e não uma classe. Então a previsão do seu modelo pode estar entre, digamos, 10 anos (torcemos que não) e 50 anos.\n",
        "\n",
        "Em resumo, quando a pergunta deixa de ser _qual_ e passa a ser _quanto_, então você tem um problema de regressão na sua frente.\n",
        "\n",
        "Mais uma vez, utilizaremos a biblioteca _open source_ do python sci-kit learn (**sklearn**)."
      ]
    },
    {
      "cell_type": "markdown",
      "metadata": {
        "id": "MmA_RcGWbKmu"
      },
      "source": [
        "<a id=\"problem_def\"></a>\n",
        "## 2. Definição do Problema"
      ]
    },
    {
      "cell_type": "markdown",
      "metadata": {
        "id": "R1VfZCaWbKmv"
      },
      "source": [
        "Imagine a seguinte situação hipotética (ou não): em uma tarde ensolarada do final dos anos 1970 você está andando com seu cachorro pelas ruas do centro de Boston, nos EUA. Seu cachorro para pra fazer aquilo que ele saiu pra fazer, e você, esperando ele terminar, avista uma bela casa de dois andares. Naturalmente, você pensa: _\"Nossa, olha aquela casa! Com um jardim daquele tamanho, eu nem precisaria levar meu cachorro para passear. Quanto será que uma casa dessa custa?\"_ Essa é uma pergunta pertinente, mas que demandaria conhecimento e experiência do mercado imobiliário para adivinhar o preço daquela casa nos anos 70.\n",
        "</br>\n",
        "\n",
        "\n",
        "<img src = https://4pfoten-on-tour.de/wp-content/uploads/2018/05/dog-3320058_1920.jpg width = 400>\n",
        "\n",
        "Agora digamos que você é uma pessoa no século 21 e está aprendendo sobre _machine learning_ - parece familiar? - e, mais do que isso, você está pensando _\"qual seria o lugar que eu viveria se eu estivesse nos anos 70 e tivesse que escolher um lugar que eu pudesse andar com meu cachorro todos os dias?\"_ A resposta pra essa pergunta só pode ser... Boston, certo? Bom, pelo menos nessa situação hipotética é o que assumiremos. Então você abre o mapa, começa a olhar as casas e se pergunta _\"será que eu conseguiria comprar essa casa na época?\"_ É aí que você lembra das suas aulas de _machine learning_ e começa a fazer um modelo para prever o valor monetário da casa dos seus sonhos.\n",
        "\n",
        "É isso que vamos fazer hoje! Vamos utilizar uma base de dados do _sklearn_ chamada **boston**, que contem informações do mercado imobiliário da cidade de mesmo nome nos anos 70, como o preço do imóvel, indicadores sociais, configurações do espaço do imóvel e assim por diante.\n",
        "\n",
        "Então vamos tentar ensinar nossa máquina a prever quanto custa um imóvel baseado nessas informações que nós temos. E, dado que a pergunta agora é _quanto_ ao invés de _qual_, nosso problema é de regressão.\n",
        "\n",
        "Pronto? Vamos **começar**!"
      ]
    },
    {
      "cell_type": "code",
      "metadata": {
        "id": "ah8sMWkFbKmw",
        "colab": {
          "base_uri": "https://localhost:8080/"
        },
        "outputId": "d338a130-2ab5-4048-cd09-0a79b3fd56f0"
      },
      "source": [
        "# Importando a base de dados\n",
        "from sklearn import datasets\n",
        "estate_df = datasets.load_boston()\n",
        "\n",
        "X, y = estate_df.data, estate_df.target\n",
        "\n",
        "print(\"X\", X.shape)\n",
        "print(\"y\", y.shape)"
      ],
      "execution_count": null,
      "outputs": [
        {
          "output_type": "stream",
          "text": [
            "X (506, 13)\n",
            "y (506,)\n"
          ],
          "name": "stdout"
        }
      ]
    },
    {
      "cell_type": "markdown",
      "metadata": {
        "id": "6BioFQRWbKm3"
      },
      "source": [
        "Conseguimos ver que temos 13 variáveis (_features_) que descrevem 506 imóveis. Veremos a frente que essa razão de _observações_/_variáveis_ é apropriada.\n",
        "\n",
        "As bases de dados (_datasets_) do ```scikit-learn``` são objetos da class Bunch, que contem os dados em si, mas também informações adicionais sobre eles. Esse tipo de informação é chamado de metadados (_metadata_), que significa \"dados sobre os dados\". Podemos entender essa classe como algo similar aos dicionários do python, com a vantagem de podermos acessar os atributos com um ponto (dataset.atributo ao invés de dataset\\['atributo'\\]). Assim como nos dicionários, podemos ver todas as informações no objeto Bunch usando ```print(dataset.keys())```.\n",
        "\n",
        "No código abaixo pegamos a descrição dos dados que vamos usar na aula de hoje:"
      ]
    },
    {
      "cell_type": "code",
      "metadata": {
        "id": "yhojCBlYbKm4",
        "scrolled": false,
        "colab": {
          "base_uri": "https://localhost:8080/"
        },
        "outputId": "342900e0-3e6d-4ad8-c42d-e95216803166"
      },
      "source": [
        "# Imprimindo a descrição da base de dados\n",
        "print(estate_df.DESCR)"
      ],
      "execution_count": null,
      "outputs": [
        {
          "output_type": "stream",
          "text": [
            ".. _boston_dataset:\n",
            "\n",
            "Boston house prices dataset\n",
            "---------------------------\n",
            "\n",
            "**Data Set Characteristics:**  \n",
            "\n",
            "    :Number of Instances: 506 \n",
            "\n",
            "    :Number of Attributes: 13 numeric/categorical predictive. Median Value (attribute 14) is usually the target.\n",
            "\n",
            "    :Attribute Information (in order):\n",
            "        - CRIM     per capita crime rate by town\n",
            "        - ZN       proportion of residential land zoned for lots over 25,000 sq.ft.\n",
            "        - INDUS    proportion of non-retail business acres per town\n",
            "        - CHAS     Charles River dummy variable (= 1 if tract bounds river; 0 otherwise)\n",
            "        - NOX      nitric oxides concentration (parts per 10 million)\n",
            "        - RM       average number of rooms per dwelling\n",
            "        - AGE      proportion of owner-occupied units built prior to 1940\n",
            "        - DIS      weighted distances to five Boston employment centres\n",
            "        - RAD      index of accessibility to radial highways\n",
            "        - TAX      full-value property-tax rate per $10,000\n",
            "        - PTRATIO  pupil-teacher ratio by town\n",
            "        - B        1000(Bk - 0.63)^2 where Bk is the proportion of blacks by town\n",
            "        - LSTAT    % lower status of the population\n",
            "        - MEDV     Median value of owner-occupied homes in $1000's\n",
            "\n",
            "    :Missing Attribute Values: None\n",
            "\n",
            "    :Creator: Harrison, D. and Rubinfeld, D.L.\n",
            "\n",
            "This is a copy of UCI ML housing dataset.\n",
            "https://archive.ics.uci.edu/ml/machine-learning-databases/housing/\n",
            "\n",
            "\n",
            "This dataset was taken from the StatLib library which is maintained at Carnegie Mellon University.\n",
            "\n",
            "The Boston house-price data of Harrison, D. and Rubinfeld, D.L. 'Hedonic\n",
            "prices and the demand for clean air', J. Environ. Economics & Management,\n",
            "vol.5, 81-102, 1978.   Used in Belsley, Kuh & Welsch, 'Regression diagnostics\n",
            "...', Wiley, 1980.   N.B. Various transformations are used in the table on\n",
            "pages 244-261 of the latter.\n",
            "\n",
            "The Boston house-price data has been used in many machine learning papers that address regression\n",
            "problems.   \n",
            "     \n",
            ".. topic:: References\n",
            "\n",
            "   - Belsley, Kuh & Welsch, 'Regression diagnostics: Identifying Influential Data and Sources of Collinearity', Wiley, 1980. 244-261.\n",
            "   - Quinlan,R. (1993). Combining Instance-Based and Model-Based Learning. In Proceedings on the Tenth International Conference of Machine Learning, 236-243, University of Massachusetts, Amherst. Morgan Kaufmann.\n",
            "\n"
          ],
          "name": "stdout"
        }
      ]
    },
    {
      "cell_type": "markdown",
      "metadata": {
        "id": "f_lJ_BYobKm_"
      },
      "source": [
        "<a id=\"initial_analysis\"></a>\n",
        "## 3. Análise Inicial"
      ]
    },
    {
      "cell_type": "markdown",
      "metadata": {
        "id": "9jiQCuCfbKnA"
      },
      "source": [
        "Para começar, é importante lembrar que o _dataset_ utilizado nessa aula é adquirido através da biblioteca _scikit-learn_. A maioria dos _datasets_ do pacote, chamados de *toy datasets* (base de dados de brinquedo), são utilizados para usos educacionais e como comparativos. Dessa forma, eles normalmente **já estão com uma certa qualidade e passaram por alguns processos de pré-processamento**. É importante notar que em _datasets_ de problemas reais é preciso passar por todo os passos da metodologia antes da modelagem.\n",
        "\n",
        "\n",
        "### 3.1. Classificação x Regressão\n",
        "Para falar dos algoritmos de regressão, é importante começarmos discutindo as diferenças entre eles e as técnicas de classificação. ***A principal diferença está de fato na variável resposta. Na classificação ela é categorica (discreta), enquanto na regressão ela é um valor numérico (contínuo).***\n",
        "\n",
        "Em machine learning, os algoritmos regressivos tentam estimar uma função (f) que mapeia as variáveis de entrada (x) a uma variável resposta (y) numérica, ou contínua. Nesse caso, y é um valor real que pode ser inteiro ou decimal. Por isso, os problemas nos quais se aplicam um modelo de regressão estão relacionados a quantidade ou tamanho.\n",
        "\n",
        "No exemplo que usaremos aqui, nosso objetivo é prever o preço de um imóvel baseado em um conjunto de variáveis. Mais uma vez, nossa pergunta aqui é _quanto_ e não _qual_!!!\n",
        "\n",
        "Com isso, dada a diferença da variável resposta, a forma que avaliamos a qualidade de um modelo regressivo é diferente do que fazemos para modelos classificatórios. Para os modelos de classificação podemos utilizar como métricas a área sob a curva ROC, a acurácia ou o Log-Loss, enquanto para os modelos de regressão costumamos utilizar o MSE (sigla em inglês para erro quadrático médio), RMSE (raiz do erro quadrático médio), R² (R-quadrado) ou R² ajustado.\n",
        "\n",
        "\n",
        "\n",
        "### 3.2 Representatividade do domínio\n",
        "Na última aula, foi falado do problema de desbalanceamento de classes para problemas de classificação, que é muito importante naquele caso. Nos problemas de regressão, temos um outro problema igualmente importante, a representatividade do domínio.\n",
        "No *dataset* de Boston, por exemplo. os preços das casas vão de US\\$ 5,000 a US\\$ 50,000. Quando separamos os dados em treino e teste, é importante verificarmos que os preços na base de treino representam de forma justa os dados completos, para que tenhamos exemplos de treino em (quase) todo o domínio da variável resposta. É isso que chamamos de representatividade do domínio. Vamos ver a distribuição dos preços na nossa base!\n"
      ]
    },
    {
      "cell_type": "code",
      "metadata": {
        "id": "onaDJ9SibKnB",
        "colab": {
          "base_uri": "https://localhost:8080/",
          "height": 342
        },
        "outputId": "0d0b6147-d323-4f21-a289-51ff324dd63e"
      },
      "source": [
        "%matplotlib inline\n",
        "\n",
        "import warnings\n",
        "warnings.filterwarnings('ignore')\n",
        "\n",
        "import numpy as np\n",
        "import pandas as pd\n",
        "import matplotlib.pyplot as plt\n",
        "\n",
        "plt.figure()\n",
        "df_target = pd.DataFrame(estate_df.target)\n",
        "df_target.groupby(pd.cut(df_target[0], np.arange(0,51,5))).count().plot(kind='bar', legend=False)\n",
        "plt.title('Distribuição dos preços das casas de Boston')\n",
        "plt.ylabel('Quantidade de casas')\n",
        "plt.xlabel('Faixa de preço')\n",
        "plt.show()"
      ],
      "execution_count": null,
      "outputs": [
        {
          "output_type": "display_data",
          "data": {
            "text/plain": [
              "<Figure size 432x288 with 0 Axes>"
            ]
          },
          "metadata": {
            "tags": []
          }
        },
        {
          "output_type": "display_data",
          "data": {
            "image/png": "[encoded data removed]",
            "text/plain": [
              "<Figure size 432x288 with 1 Axes>"
            ]
          },
          "metadata": {
            "tags": [],
            "needs_background": "light"
          }
        }
      ]
    },
    {
      "cell_type": "markdown",
      "metadata": {
        "id": "gmgcyuRcbKnJ"
      },
      "source": [
        "Como pudemos ver, a distribuição de preços não é plana, então é boa prática garantir que os *datasets* de treino e teste têm distribuição similar."
      ]
    },
    {
      "cell_type": "markdown",
      "metadata": {
        "id": "hZMpLJIZnblE"
      },
      "source": [
        "### 3.3 Como converter um problema de regressão em um problema de classificação?\n",
        "\n",
        "Por fim, mas não menos importante, vale mencionar que conseguimos transformar um problema de regressão em um de classificação em alguns casos. Por exemplo, a quantidade a ser prevista poderia ser transformada em grupos discretos. A própria visualização utilizada no gráfico acima já foi feita com barras que representam intervalos fixados, então a gente consegue analisá-los em um domínio discreto (olha a classificação aqui!). Isso normalmente é chamado de discretização e a variável resposta pssa a ser classificada com rótulos que tem uma relação de ordem. Essa abordagem pode ser bastante poderosa em alguns problemas reais."
      ]
    },
    {
      "cell_type": "markdown",
      "metadata": {
        "id": "9DeQ1g-2bKnL"
      },
      "source": [
        "<a id=\"split\"></a>\n",
        "## 4. Separação dos *datasets* de treino e teste\n",
        "\n",
        "A teoria da quebra em treino, teste e validação foi tratado na última aula e é a mesma para os casos de regressão. É um dos conceitos mais importantes do nosso pipeline de modelagem. Caso não se recorde dos conceitos tratados nessa seção, volte na aula anterior."
      ]
    },
    {
      "cell_type": "markdown",
      "metadata": {
        "id": "jn6uFtrIbKnO"
      },
      "source": [
        "### 4.1. Código Python"
      ]
    },
    {
      "cell_type": "markdown",
      "metadata": {
        "id": "3DuuVSTIbKnP"
      },
      "source": [
        "#### 4.1.1. Separação de treino e teste\n",
        "Primeiramente separamos o conjunto de teste."
      ]
    },
    {
      "cell_type": "code",
      "metadata": {
        "id": "aBr1CZW4bKnR",
        "colab": {
          "base_uri": "https://localhost:8080/"
        },
        "outputId": "c01af5b3-172c-43c0-b001-eb4aed878985"
      },
      "source": [
        "# importando a função train_test_split\n",
        "from sklearn.model_selection import train_test_split\n",
        "\n",
        "# configurando a semente aleatória para reprodutibilidade dos resultados\n",
        "# a mesma semente será utilizada em demais partes do código\n",
        "seed = 10\n",
        "\n",
        "# usando a função train_test_split para criar o dataset de teste\n",
        "# random_state  é utilizado para a geração dos números aleatórios, por isso passamos a semente\n",
        "# test_size define o tamanho do dataset de teste e pode ser um inteiro do número de observações ou a proporção delas\n",
        "# stratify é utilizado para garantir que a distribuição dos dados seja parecida nos dados de treino e teste\n",
        "X_training, X_test, y_training, y_test = train_test_split(X, y, random_state=seed, test_size=0.25) #, stratify=y)\n",
        "\n",
        "print(\"Test set X\", X_test.shape)\n",
        "print(\"Test set y\", y_test.shape)"
      ],
      "execution_count": null,
      "outputs": [
        {
          "output_type": "stream",
          "text": [
            "Test set X (127, 13)\n",
            "Test set y (127,)\n"
          ],
          "name": "stdout"
        }
      ]
    },
    {
      "cell_type": "markdown",
      "metadata": {
        "id": "5ibnDlMrbKnY"
      },
      "source": [
        "#### 4.1.2. Separação de treino e validação\n",
        "Então dividimos as obsevações resultantes do treino para separar novamente no conjunto de validação."
      ]
    },
    {
      "cell_type": "code",
      "metadata": {
        "id": "TA4Tp6Y7bKnY",
        "colab": {
          "base_uri": "https://localhost:8080/"
        },
        "outputId": "1db51f19-bb54-4b67-fc26-372289089828"
      },
      "source": [
        "# o mesmo do anterior, mas separando a partir da base de treino apenas\n",
        "X_train, X_val, y_train, y_val = train_test_split(X_training, y_training, random_state=seed,\n",
        "                                                  test_size=0.33) #, stratify=y_training)\n",
        "\n",
        "print(\"Train set X\", X_train.shape)\n",
        "print(\"Train set y\", y_train.shape)\n",
        "print(\"Validation set X\", X_val.shape)\n",
        "print(\"Validation set y\", y_val.shape)"
      ],
      "execution_count": null,
      "outputs": [
        {
          "output_type": "stream",
          "text": [
            "Train set X (253, 13)\n",
            "Train set y (253,)\n",
            "Validation set X (126, 13)\n",
            "Validation set y (126,)\n"
          ],
          "name": "stdout"
        }
      ]
    },
    {
      "cell_type": "markdown",
      "metadata": {
        "id": "TphrZONEbKnc"
      },
      "source": [
        "Assim como na última aula, podemos usar a imagem abaixo como referência, então em cada uma das variáveis, temos:\n",
        "\n",
        "- **X_test** e **y_test**: conjunto de teste (vermelho)\n",
        "- **X_training** e **y_training**: conjunto auxiliar de treino (verde superior) para o método de holdout (com validação cruzada)\n",
        "- **X_train** e **y_train**: conjunto de treino (verde inferior) para treino sem validação cruzada\n",
        "- **X_val** e **y_val**: conjunto de validação (amarelo) para avaliar os modelos sem validação cruzada\n",
        "\n",
        "<img src=\"https://cdn-images-1.medium.com/max/1200/1*4G__SV580CxFj78o9yUXuQ.png\" alt=\"cv\" style=\"width: 600px;\"/>"
      ]
    },
    {
      "cell_type": "markdown",
      "metadata": {
        "id": "HnZMgQKfbKnc"
      },
      "source": [
        "<a id=\"eval\"></a>\n",
        "## 6. Avaliação dos modelos - Métricas\n",
        "\n",
        "Já aprendemos como separar nossos *datasets* em treino, teste e validação. Agora, precisamos entender como escolhemos os melhores modelos. Assim como fizemos no modelo de classificação, vamos fazer isso através de métricas de erro, mas essas métricas são diferentes daquelas usadas nas aulas anteriores. Apresentamos a seguir as métricas dos modelos regressivos, com as siglas em inglês, como normalmente são utilizados:\n",
        "* MAE (erro absoluto médio)\n",
        "* MSE (erro quadrático médio)\n",
        "* RMSE (raiz do erro quadrático médio)\n",
        "* R² (R quadrado)\n",
        "\n",
        "### 6.1 MAE (erro absoluto médio)\n",
        "\n",
        "MAE é a média do valor absoluto da diferença entre o valor previsto e o valor real. O MAE é uma métrica linear, o que significa que cada diferença tem um peso igual na média. Por exemplo, a diferença entre 0 e 10 será o dobro de uma diferença entre 5 e 0. Porém, o mesmo não é verdade para o RMSE, que discutiremos em breve. Sua fórmula matemática é:\n",
        "\n",
        "![Imgur](https://cdn-images-1.medium.com/max/800/1*8DXbECB9pnKxTpIvuVD-vg.png)\n",
        "\n",
        "### 6.2 MSE (erro quadrático médio)\n",
        "\n",
        "O erro qudrático médio (MSE) é como o MAE, mas elevamos as diferenças ao quadrado antes de somá-las ao invés que calcular o valor absoluto. Uma vez que as diferenças são elevadas ao quadrado, essa métrica penaliza mais os *outliers*. Sua fórmula matemática está a seguir:\n",
        "\n",
        "![Imgur](https://cdn-images-1.medium.com/max/300/1*3wB5otkgKEiv9X6Gdd0r2Q@2x.png)\n",
        "\n",
        "\n",
        "### 6.3 RMSE (raiz do erro quadrático médio)\n",
        "\n",
        "Essa é uma das métricas mais utilizadas nos modelos de regressão. Como o MSE, essa métrica também penaliza os *outliers*. Entretanto, ele tem a vantagem de ter a mesma unidade da variável resposta, ao contrário do MSE, o que torna ele mais fácil de ser interpretado. Por exemplo, com o preço das casas em dólar, teríamos o RMSE também em dólar. A equação matemática está abaixo:\n",
        "\n",
        "![Imgur](https://cdn-images-1.medium.com/max/1000/1*qz8jRMxmMEwNsFh0Cs5XfQ.png)\n",
        "\n",
        "### 6.4 R² (R quadrado)\n",
        "\n",
        "Uma dificuldade de utilizar o MSE ou RMSE é não ter uma indicação clara pelo valor da métrica. Se eu te disser que temos um MSE de 11,7 você diria que é bom ou ruim? Na verdade, é muito difícil dizer se nosso modelo é bom ou ruim apenas pelos valores das métricas de MSE ou RMSE, elas servem mais para comparação. Dessa forma, seria bom se tivessemos uma métrica base para fazer essa comparação.\n",
        "O coeficiente de determinação, ou R² é uma métrica bastante relacionada ao RMSE, mas com a vantagem de não depender da escala dos valores previstos, o que significa que independentemente dos valores serem grandes ou pequenos, o R² sempre estará entre -∞ e 1.\n",
        "\n",
        "Quando o R² for negativo, significa que o modelo é pior do que prever utilizando a média.\n",
        "\n",
        "![Imgur](https://cdn-images-1.medium.com/max/300/1*iqUOveJbbKk7-DHcQ0ZOnA@2x.png)\n",
        "\n",
        "O MSE do modelo é computado como mostramos anteriormente, enquanto o MSE de *baseline* é definido como:\n",
        "\n",
        "![Imgur](https://cdn-images-1.medium.com/max/300/1*SZVKM6G8v8veQPqmO1c2Aw@2x.png)\n",
        "\n",
        "com o y com a barra acima sendo a média do valor observado, ou real, yᵢ.\n",
        "\n",
        "De forma mais simples, o MSE do *baseline* pode ser entendido como o MSE que o modelo mais simples obteria. O modelo mais simples para um problema regressivo seria sempre utilizar a média de todas as observações. Dessa forma, um valor para o R² próximo a 1 indica um modelo com erro próximo a 0, e um R² próximo a 0 indica um modelo próximo do *baseline*.\n",
        "\n",
        "Em resumo, ***R² é a razão entre quão bom é o nosso modelo e quão bom é o modelo da média***.\n",
        "\n",
        "Como vimos, há diferentes métricas para determinar o erro associado a uma previsão de um problema de regressão que variam bastante entre elas. A escolha entre as métricas vai depender do dado e do problema com o qual vocês está lidando. Se seu dado é sensível a *outliers*, é melhor usar MAE ou MAPE. Se *outliers* não é um problema pra você, você pode usar o MSE ou o RMSE. A seguir há algumas páginas para melhor entendimento desses conceitos, mas é importante lembrar que a escolha da métrica de erro é de extrema importância para a modelagem!\n",
        "\n",
        "1. [Medium](https://medium.com/usf-msds/choosing-the-right-metric-for-machine-learning-models-part-1-a99d7d7414e4): Choosing the Right Metric for Evaluating Machine Learning Models\n",
        "2. [Dataquest](https://www.dataquest.io/blog/understanding-regression-error-metrics/): Understanding Regression Error Metrics in Python"
      ]
    },
    {
      "cell_type": "markdown",
      "metadata": {
        "id": "-rXrsE0ybKnd"
      },
      "source": [
        "<a id=\"modeling\"></a>\n",
        "## 5. Modelagem"
      ]
    },
    {
      "cell_type": "markdown",
      "metadata": {
        "id": "oX-rcd1VbKnd"
      },
      "source": [
        "### 5.1. Random Forest"
      ]
    },
    {
      "cell_type": "markdown",
      "metadata": {
        "id": "qy8-aReVbKne"
      },
      "source": [
        "#### 5.1.1. Teoria\n",
        "A floresta aleatória (em inglês, random forest) é um modelo baseado em diversas árvores de decisão. Mas não é apenas a média de diversas previsões feitas por árvores (que seriam *florestas*), pois esse método inclui dois conceitos chave que dão a parte **aleatória** do nome:\n",
        "\n",
        "- Amostragem aleatória das observações do treino ao construir as árvores\n",
        "- Seleção de um subconjunto aleatório das *features* ao quebrar os nós\n",
        "\n",
        "A imagem a seguir mostrar uma interpretação visual dessas ideias:\n",
        "\n",
        "![Imgur](https://c.mql5.com/2/33/image1__1.png)\n",
        "\n",
        "Para mais detalhes sobre como as *random forests* funcionam, clique [aqui](https://medium.com/@williamkoehrsen/random-forest-simple-explanation-377895a60d2d) para ler um artigo (em inglês) do Medium sobre o método e [aqui](https://www.youtube.com/watch?v=D_2LkhMJcfY) para assistir um pequeno vídeo sobre o assunto."
      ]
    },
    {
      "cell_type": "markdown",
      "metadata": {
        "id": "Jff1qwrDbKnf"
      },
      "source": [
        "#### 5.1.2. Código em Python e Avaliação\n",
        "\n",
        "Primeiro, precisamos instalar o pacote **ensemble** que contém as funções e objetos necessários para utilizarmos o *random forest*."
      ]
    },
    {
      "cell_type": "code",
      "metadata": {
        "id": "dsGh2I0ZbKng",
        "scrolled": true,
        "colab": {
          "base_uri": "https://localhost:8080/"
        },
        "outputId": "74bfd566-703d-4394-f08f-b77a67761677"
      },
      "source": [
        "import sys\n",
        "!{sys.executable} -m pip install ensemble"
      ],
      "execution_count": null,
      "outputs": [
        {
          "output_type": "stream",
          "text": [
            "Collecting ensemble\n",
            "  Downloading https://files.pythonhosted.org/packages/89/aa/3f9b812bb8ab00a90358390f2ea1f00fa30c35a7e02161d11551c72965d4/ensemble-0.0.dev1.tar.gz\n",
            "Requirement already satisfied: docopt in /usr/local/lib/python3.7/dist-packages (from ensemble) (0.6.2)\n",
            "Requirement already satisfied: lxml in /usr/local/lib/python3.7/dist-packages (from ensemble) (4.2.6)\n",
            "Requirement already satisfied: numpy in /usr/local/lib/python3.7/dist-packages (from ensemble) (1.19.5)\n",
            "Requirement already satisfied: pandas in /usr/local/lib/python3.7/dist-packages (from ensemble) (1.1.5)\n",
            "Collecting pyprind\n",
            "  Downloading https://files.pythonhosted.org/packages/ab/b3/1f12ebc5009c65b607509393ad98240728b4401bc3593868fb161fdd3760/PyPrind-2.11.3-py2.py3-none-any.whl\n",
            "Collecting pysut\n",
            "  Downloading https://files.pythonhosted.org/packages/28/96/846a949e7c3d3bdf2fb166e5506a1fb321c3d8513fbd958a4ca2ee02d772/pysut-1.1.zip\n",
            "Requirement already satisfied: pytest in /usr/local/lib/python3.7/dist-packages (from ensemble) (3.6.4)\n",
            "Collecting stats_arrays\n",
            "  Downloading https://files.pythonhosted.org/packages/cc/77/94b7e05d844187b4bbc7e48254330da55fc8d6e5cdbe94220168fcce251a/stats_arrays-0.6.5.tar.gz\n",
            "Requirement already satisfied: wrapt in /usr/local/lib/python3.7/dist-packages (from ensemble) (1.12.1)\n",
            "Requirement already satisfied: python-dateutil>=2.7.3 in /usr/local/lib/python3.7/dist-packages (from pandas->ensemble) (2.8.1)\n",
            "Requirement already satisfied: pytz>=2017.2 in /usr/local/lib/python3.7/dist-packages (from pandas->ensemble) (2018.9)\n",
            "Requirement already satisfied: scipy in /usr/local/lib/python3.7/dist-packages (from pysut->ensemble) (1.4.1)\n",
            "Requirement already satisfied: six>=1.10.0 in /usr/local/lib/python3.7/dist-packages (from pytest->ensemble) (1.15.0)\n",
            "Requirement already satisfied: setuptools in /usr/local/lib/python3.7/dist-packages (from pytest->ensemble) (57.0.0)\n",
            "Requirement already satisfied: attrs>=17.4.0 in /usr/local/lib/python3.7/dist-packages (from pytest->ensemble) (21.2.0)\n",
            "Requirement already satisfied: more-itertools>=4.0.0 in /usr/local/lib/python3.7/dist-packages (from pytest->ensemble) (8.7.0)\n",
            "Requirement already satisfied: atomicwrites>=1.0 in /usr/local/lib/python3.7/dist-packages (from pytest->ensemble) (1.4.0)\n",
            "Requirement already satisfied: pluggy<0.8,>=0.5 in /usr/local/lib/python3.7/dist-packages (from pytest->ensemble) (0.7.1)\n",
            "Requirement already satisfied: py>=1.5.0 in /usr/local/lib/python3.7/dist-packages (from pytest->ensemble) (1.10.0)\n",
            "Building wheels for collected packages: ensemble, pysut, stats-arrays\n",
            "  Building wheel for ensemble (setup.py) ... \u001b[?25l\u001b[?25hdone\n",
            "  Created wheel for ensemble: filename=ensemble-0.0.dev1-cp37-none-any.whl size=4435 sha256=fb173be3321c51de1e8a122d350f4414420b4fac1c6a37b76f702d678b1089fe\n",
            "  Stored in directory: /root/.cache/pip/wheels/40/0c/52/2fed70dec79c9412872fa27a2533dc8511feb96b3945143309\n",
            "  Building wheel for pysut (setup.py) ... \u001b[?25l\u001b[?25hdone\n",
            "  Created wheel for pysut: filename=pysut-1.1-cp37-none-any.whl size=29074 sha256=935f2f9f77095d728a0e6bc4bd43354b37ae3606815e377a2e59f5d2897a4241\n",
            "  Stored in directory: /root/.cache/pip/wheels/ed/f8/89/a198f4511cfcdd36335b15ba57215cf6d48444d751e8a615e6\n",
            "  Building wheel for stats-arrays (setup.py) ... \u001b[?25l\u001b[?25hdone\n",
            "  Created wheel for stats-arrays: filename=stats_arrays-0.6.5-cp37-none-any.whl size=26355 sha256=4f5a1677438e19893cda56df5ab0f9d28b3a6f9f471a52bc7ff6ce632d429d48\n",
            "  Stored in directory: /root/.cache/pip/wheels/e2/36/22/f5e25d8b0aec350963a278c28046c7377b5de3365b5ed065c5\n",
            "Successfully built ensemble pysut stats-arrays\n",
            "Installing collected packages: pyprind, pysut, stats-arrays, ensemble\n",
            "Successfully installed ensemble-0.0.dev1 pyprind-2.11.3 pysut-1.1 stats-arrays-0.6.5\n"
          ],
          "name": "stdout"
        }
      ]
    },
    {
      "cell_type": "markdown",
      "metadata": {
        "id": "kdfjhk81bKnn"
      },
      "source": [
        "Agora, vamos importar tudo o que precisamos, começando, é claro, pelo ```RandomForestRegressor```. Depois, vamos importar algumas métricas que utilizaremos para avaliar nosso modelo de  ```sklearn.metrics```."
      ]
    },
    {
      "cell_type": "code",
      "metadata": {
        "id": "GMvghmm4bKno"
      },
      "source": [
        "from sklearn.ensemble import RandomForestRegressor\n",
        "from sklearn.datasets import make_regression\n",
        "from sklearn.metrics import (explained_variance_score, \n",
        "                             mean_absolute_error, \n",
        "                             mean_squared_error, \n",
        "                             mean_squared_log_error,\n",
        "                             r2_score)"
      ],
      "execution_count": null,
      "outputs": []
    },
    {
      "cell_type": "markdown",
      "metadata": {
        "id": "H0TcoaLjbKns"
      },
      "source": [
        "Agora vamos treinar nosso primeiro modelo de *Random Forest*. Não está animado?\n",
        "\n",
        "Isso se trata basicamente de: criar o objeto do modelo de *random forest* com seus hiperparâmetros. Já que estamos com um problema de regressão, vamos usar a classe ```RandomForestRegressor```. Você consegue ver os parâmetros disponíveis para criar esse objeto [aqui](https://scikit-learn.org/stable/modules/generated/sklearn.ensemble.RandomForestRegressor.html).\n",
        "\n",
        "Os parâmetros mais importantes que usaremos nessa aula são:\n",
        "- **n_estimators \\[padrão = 10\\]**: O número de árvores de decisão criadas pelo modelo\n",
        "- **max_features \\[padrão = 'auto'\\]**: O número de *features* a serem consideradas ao procurar pela melhor quebra. Se não for passado um valor, é utilizado o número total de *features* por padrão\n",
        "- **max_depth \\[padrão = None\\]**: A profundidade máxima das árvores. Se não for passado, os nós são expandidos até que todas as folhas sejam puras ou menores que min_sample_split\n",
        "- **min_samples_split  \\[padrão = 2\\]**: O número mínimo de observações necessários para se fazer uma quebra em um nó\n",
        "\n",
        "Para começar, não vamos definir os hiperparâmetros, então o modelo será gerado com os valores padrões."
      ]
    },
    {
      "cell_type": "code",
      "metadata": {
        "id": "4CsiOZxpbKns",
        "colab": {
          "base_uri": "https://localhost:8080/",
          "height": 385
        },
        "outputId": "bda5539a-0669-428e-96c7-003f073bb6ce"
      },
      "source": [
        "##### RandomForest 1\n",
        "# criando o objeto do modelo com RandomForestRegressor\n",
        "rf_model_1 = RandomForestRegressor(random_state = seed)\n",
        "\n",
        "# treinando o modelo com os dados de treino\n",
        "rf_model_1.fit(X_train, y_train)\n",
        "\n",
        "# prevendo com o modelo nos dados de validação\n",
        "y_pred = rf_model_1.predict(X_val)\n",
        "\n",
        "# calculando e imprimindo algumas métricas\n",
        "print(\"Score on training set: {:.3f}\".format(rf_model_1.score(X_train, y_train)))\n",
        "print(\"Score on validation set: {:.3f}\".format(rf_model_1.score(X_val, y_val)))\n",
        "y = [rf_model_1.score(X_train, y_train), \n",
        "     rf_model_1.score(X_val, y_val)]\n",
        "x = [\"Train Score\", \"Validation Score\"]\n",
        "width = 1/2\n",
        "plt.bar(x, y, width, color=\"blue\") \n",
        "print(\"Explained variance score: {:.3f}\".format(explained_variance_score(y_val, y_pred)))\n",
        "print(\"Mean absolute error (MAE): {:.3f}\".format(mean_absolute_error(y_val, y_pred)))\n",
        "print(\"Mean squared error (MSE): {:.3f}\".format(mean_squared_error(y_val, y_pred)))\n",
        "print(\"Mean squared log error (MSLE): {:.3f}\".format(mean_squared_log_error(y_val, y_pred)))\n",
        "print(\"R² Score: {:.3f}\".format(r2_score(y_val, y_pred)))"
      ],
      "execution_count": null,
      "outputs": [
        {
          "output_type": "stream",
          "text": [
            "Score on training set: 0.979\n",
            "Score on validation set: 0.788\n",
            "Explained variance score: 0.788\n",
            "Mean absolute error (MAE): 2.303\n",
            "Mean squared error (MSE): 13.033\n",
            "Mean squared log error (MSLE): 0.030\n",
            "R² Score: 0.788\n"
          ],
          "name": "stdout"
        },
        {
          "output_type": "display_data",
          "data": {
            "image/png": "[encoded data removed]",
            "text/plain": [
              "<Figure size 432x288 with 1 Axes>"
            ]
          },
          "metadata": {
            "tags": [],
            "needs_background": "light"
          }
        }
      ]
    },
    {
      "cell_type": "markdown",
      "metadata": {
        "id": "5ma28xeUbKnw"
      },
      "source": [
        "É isso! Bem fácil treinar um modelo de *Random Forest* para regressão, não é?\n",
        "\n",
        "Como podemos ver, o modelo treinado tem um R² de 97,9% nos dados de treinos e 78,8% nos dados de validação, representando uma diferença de 19,1% entre eles.\n",
        "\n",
        "É bem clara a diferença do R² nos dois dados, sendo bem maior nos dados de treino, indicando um problema clássico de *overfitting*. Para lidar com isso, você poderá rodar a célula abaixo alterando os parâmetros para tentar diminuir a diferênça do R² no treino e na validação. Tome cuidado para não reduzir demais as duas também, é melhor ter um modelo com *overfitting* que faz uma boa previsão do que um modelo que não tem previsões boas no treino nem na validação.\n",
        "\n",
        "Tenha em mente as seguintes características de cada um dos hiperparâmetros:\n",
        "\n",
        "- **n_estimators**: quanto maior o número de estimadores, mais e com menos viés será aprendido dos dados\n",
        "- **max_features**: uma quantidade menor de *features* pode ajudar o modelo a remover correlações enviesadas\n",
        "- **max_depth**: profundidades maiores aumentam a chance de *overfitting*, mas dão mais ganho de informação ao modelo\n",
        "- **min_samples_split**: um número mínimo de observações maior pode reduzir o *overfitting*\n",
        "\n",
        "Todos os hiperparâmetros estão inicialmente nos seus valores padrão.\n",
        "\n",
        "Rode a célula abaixo e clique em **Run Interact** para testar quantas vezes você quiser!"
      ]
    },
    {
      "cell_type": "code",
      "metadata": {
        "id": "N1x-dEiYbKnx",
        "scrolled": false,
        "colab": {
          "base_uri": "https://localhost:8080/",
          "height": 545,
          "referenced_widgets": [
            "8a00f0e3b02049b5bb8b819f8ebb7dc8",
            "6919fed258924c36bd374c752edf6a2b",
            "fd4e0941f15c48ffae31c7719673d866",
            "3bf0c19d3c37499581c10bbce37146ee",
            "12765452cbd24815b84482149ed95054",
            "e5c1b5e013144c2e85a53349da5cc1da",
            "3fd5a7ae509d4759b53ba819a05e9720",
            "ec6657cb156a426c8ece62fba6215571",
            "c6da78de56ba43e7ac815fcc5d0f2be5",
            "93ae65be815d42dc92445f35048e7114",
            "6dd70d76c1b34b8c898380568bb84622",
            "a1095309dcd8482c83a8aac474a8be27",
            "f5f1a0937f3b42b49d85b0a32440d836",
            "8e8f349ed778464aa097824fbc785a0b",
            "7bda3c583baf4e9286ffc71085ec5a35",
            "ddf22b47656647ffbecfc6050b741361",
            "bf7e5cbd82e84be0b11e99c7771036de",
            "31d54b3810e946f79761475f28746813",
            "13f4e0226e85471e961c44a09086ce71"
          ]
        },
        "outputId": "f6392236-d4db-4609-d7be-180386e071a2"
      },
      "source": [
        "##### Random Forest 2\n",
        "\n",
        "from IPython.display import display\n",
        "from ipywidgets import interact_manual\n",
        "import ipywidgets as widgets\n",
        "\n",
        "def teste_treino(nEstimators, maxFeatures, maxDepth, minSamplesSplit):\n",
        "    \n",
        "    # criando o objeto do modelo com RandomForestRegressor\n",
        "    rf_model_2 = RandomForestRegressor(n_estimators = nEstimators,\n",
        "                                    max_features = maxFeatures, \n",
        "                                    max_depth = maxDepth, \n",
        "                                    min_samples_split = minSamplesSplit,\n",
        "                                    random_state = seed)\n",
        "\n",
        "    # treinando o modelo com os dados de treino\n",
        "    rf_model_2.fit(X_train, y_train)\n",
        "\n",
        "    # prevendo com o modelo nos dados de validação\n",
        "    y_pred = rf_model_2.predict(X_val)\n",
        "\n",
        "    # calculando e imprimindo algumas métricas\n",
        "    \n",
        "    print(\"Score on training set: {:.3f}\".format(rf_model_2.score(X_train, y_train)))\n",
        "    print(\"Score on validation set: {:.3f}\".format(rf_model_2.score(X_val, y_val)))\n",
        "    y = [rf_model_2.score(X_train, y_train), \n",
        "         rf_model_2.score(X_val, y_val)]\n",
        "    x = [\"Train Score\", \"Test Score\"]\n",
        "    width = 1/2\n",
        "    plt.bar(x, y, width, color=\"blue\")  \n",
        "    print(\"Explained variance score: {:.3f}\".format(explained_variance_score(y_val, y_pred)))\n",
        "    print(\"Mean absolute error (MAE): {:.3f}\".format(mean_absolute_error(y_val, y_pred)))\n",
        "    print(\"Mean squared error (MSE): {:.3f}\".format(mean_squared_error(y_val, y_pred)))\n",
        "    print(\"Mean squared log error (MSLE): {:.3f}\".format(mean_squared_log_error(y_val, y_pred)))\n",
        "    print(\"R² Score: {:.3f}\".format(r2_score(y_val, y_pred)))\n",
        "    \n",
        "# essas são as linhas de código para criar os seletores\n",
        "_ = interact_manual(teste_treino, \n",
        "                    nEstimators =     widgets.IntSlider(min = 5, max = 1000, step = 1, value = 100),\n",
        "                    maxFeatures =     widgets.IntSlider(min = 2, max = 13, step = 1, value = 13),\n",
        "                    maxDepth =        widgets.IntSlider(min = 2, max = 100, step = 1, value = 50),\n",
        "                    minSamplesSplit = widgets.IntSlider(min = 2, max = 30, step = 1, value = 2))"
      ],
      "execution_count": null,
      "outputs": [
        {
          "output_type": "display_data",
          "data": {
            "application/vnd.jupyter.widget-view+json": {
              "model_id": "8a00f0e3b02049b5bb8b819f8ebb7dc8",
              "version_minor": 0,
              "version_major": 2
            },
            "text/plain": [
              "interactive(children=(IntSlider(value=100, description='nEstimators', max=1000, min=5), IntSlider(value=13, de…"
            ]
          },
          "metadata": {
            "tags": []
          }
        }
      ]
    },
    {
      "cell_type": "markdown",
      "metadata": {
        "id": "0Ad_Tua8bKn2"
      },
      "source": [
        "É interessante notar que diminuir o número de *features* aumenta o R² nos dados de validação. Isso ocorre pelo fato de que, com menos *features* de cada vez em uma árvore, o modelo pode observar comportamentos diferentes, o que reduz o *overfitting*.\n",
        "\n",
        "Agora vamos usar a validação cruzada com a *random forest*. A principal diferença em relação ao que fizemos antes é que vamos usar a função ```GridSearchCV``` que serve para *grid search* mas também para a validação cruzada. No caso, não utilizaremos o *grid*."
      ]
    },
    {
      "cell_type": "code",
      "metadata": {
        "id": "ooJlK4NWbKn3",
        "scrolled": false,
        "colab": {
          "base_uri": "https://localhost:8080/",
          "height": 316
        },
        "outputId": "fb0f3427-1881-4f3b-af89-6135d88e9fea"
      },
      "source": [
        "# Random Forest com validação cruzada\n",
        "\n",
        "# importando a função de grid search do sklearn\n",
        "from sklearn.model_selection import GridSearchCV\n",
        "import pandas as pd\n",
        "\n",
        "# definindo os valores possíveis dos parâmetros a serem testados\n",
        "params = {}\n",
        "\n",
        "# criando o objeto do modelo com RandomForestRegressor\n",
        "rf_model_cv = RandomForestRegressor(random_state = seed)\n",
        "\n",
        "# criando o objeto do grid search com GridSearchCV\n",
        "grid_search = GridSearchCV(rf_model_cv, param_grid = params, return_train_score=True) # valor padrão para quebras é 3\n",
        "\n",
        "# treinando o modelo com o grid search\n",
        "grid_search.fit(X_training, y_training)\n",
        "\n",
        "# pegando os resultados da validação cruzada (cv_results)\n",
        "cv_results = pd.DataFrame(grid_search.cv_results_)\n",
        "\n",
        "# imprimindo o score médio nas bases de treino\n",
        "print(\"Average Score on train set: {:.3f} +/- {:.3f}\".format(cv_results[cv_results.rank_test_score == 1].mean_train_score.values[0],\n",
        "                                                                     cv_results[cv_results.rank_test_score == 1].std_train_score.values[0]))\n",
        "# imprimindo o score médio nas bases de validação\n",
        "print(\"Average Score on validation set: {:.3f} +/- {:.3f}\".format(cv_results[cv_results.rank_test_score == 1].mean_test_score.values[0],\n",
        "                                                                     cv_results[cv_results.rank_test_score == 1].std_test_score.values[0]))\n",
        "\n",
        "y = [cv_results[cv_results.rank_test_score == 1].mean_train_score.values[0], \n",
        "     cv_results[cv_results.rank_test_score == 1].mean_test_score.values[0]]\n",
        "x = [\"Train Score\", \"Validation Score\"]\n",
        "width = 1/2\n",
        "plt.bar(x, y, width, color=\"blue\")  "
      ],
      "execution_count": null,
      "outputs": [
        {
          "output_type": "stream",
          "text": [
            "Average Score on train set: 0.978 +/- 0.002\n",
            "Average Score on validation set: 0.835 +/- 0.067\n"
          ],
          "name": "stdout"
        },
        {
          "output_type": "execute_result",
          "data": {
            "text/plain": [
              "<BarContainer object of 2 artists>"
            ]
          },
          "metadata": {
            "tags": []
          },
          "execution_count": 12
        },
        {
          "output_type": "display_data",
          "data": {
            "image/png": "[encoded data removed]",
            "text/plain": [
              "<Figure size 432x288 with 1 Axes>"
            ]
          },
          "metadata": {
            "tags": [],
            "needs_background": "light"
          }
        }
      ]
    },
    {
      "cell_type": "markdown",
      "metadata": {
        "id": "kwMhfP7rbKn7"
      },
      "source": [
        "Como podemos ver, utilizamos os mesmos parâmetros padrões que haviamos usado no primeiro modelo de *random forest*, mas o R² de validação foi maior. Isso ocorreu devido à validação cruzada.\n",
        "\n",
        "Agora, vamos fazer o *grid search*. Essa técnica consiste em definir um conjunto de valores que determinado hiperparâmetro pode ter e treinar um modelo para cada combinação desses hiperparâmetros, e então selecionar a combinação com o melhor resultado.\n",
        "\n",
        "Para fazer isso, vamos definir um dicionário com os valores dos hiperparâmetros a serem testados e usar ```GridSearchCV```para treinar todos os modelos, passando os valores possíveis, a métrica de avaliação e as quebras de validação cruzada. Assim, pegaremos o atributo ```best_params_```para treinar o modelo final.\n",
        "\n",
        "Além disso, dessa vez faremos o gráfico de importância de variáveis para o melhor modelo. Esse gráfico mostra quais foram as variáveis mais importantes para o modelo.\n",
        "\n",
        "Atenção: isso pode levar algum tempo."
      ]
    },
    {
      "cell_type": "code",
      "metadata": {
        "id": "P2eXU3j_bKn7",
        "colab": {
          "base_uri": "https://localhost:8080/",
          "height": 381
        },
        "outputId": "e3c34bd8-7840-4d70-8e0f-ddd27ce931dd"
      },
      "source": [
        "import numpy as np\n",
        "import matplotlib.pyplot as plt\n",
        "\n",
        "# Random Forest com validação cruzada e Grid Search\n",
        "\n",
        "# definindo os valores possíveis dos parâmetros a serem testados\n",
        "params = {'n_estimators': [5, 50, 100, 500],\n",
        "          'max_features': [2, 5, 9, 13],\n",
        "          'max_depth': [2, 5, 10, 50],\n",
        "          'min_samples_split': [2, 8, 15, 30],}\n",
        "\n",
        "# criando o objeto do modelo com RandomForestRegressor\n",
        "rf_model_cv_gs = RandomForestRegressor(random_state = seed)\n",
        "\n",
        "# criando o objeto do grid search com GridSearchCV\n",
        "grid_search = GridSearchCV(rf_model_cv_gs, param_grid=params, return_train_score=True) # valor padrão para quebras é 3\n",
        "\n",
        "# treinando o modelo com o grid search\n",
        "grid_search.fit(X_training, y_training)\n",
        "\n",
        "# imprimindo a melhor combinação de hiperparâmetros\n",
        "print('\\n Best hyperparameters:')\n",
        "print(grid_search.best_params_)\n",
        "\n",
        "# pegando os resultados da validação cruzada (cv_results)\n",
        "cv_results = pd.DataFrame(grid_search.cv_results_)\n",
        "\n",
        "# imprimindo o score médio nas bases de treino\n",
        "print(\"Average Score on train set: {:.3f} +/- {:.3f}\".format(cv_results[cv_results.rank_test_score == 1].mean_train_score.values[0],\n",
        "                                                                     cv_results[cv_results.rank_test_score == 1].std_train_score.values[0]))\n",
        "# imprimindo o score médio nas bases de validação\n",
        "print(\"Average Score on validation set: {:.3f} +/- {:.3f}\".format(cv_results[cv_results.rank_test_score == 1].mean_test_score.values[0],\n",
        "                                                                     cv_results[cv_results.rank_test_score == 1].std_test_score.values[0])) \n",
        "\n",
        "# configurando o modelo com a melhor combinação de hiperparâmetros\n",
        "rf_model_cv_gs.set_params(n_estimators = grid_search.best_params_['n_estimators'],\n",
        "                           max_features = grid_search.best_params_['max_features'],\n",
        "                           max_depth = grid_search.best_params_['max_depth'],\n",
        "                           min_samples_split = grid_search.best_params_['min_samples_split'])\n",
        "\n",
        "# treinando um modelo com a melhor combinação de hiperparâmetros\n",
        "rf_model_cv_gs.fit(X_training, y_training)\n",
        "\n",
        "features = estate_df['feature_names']\n",
        "importances = rf_model_cv_gs.feature_importances_\n",
        "indices = np.argsort(importances)\n",
        "\n",
        "plt.title('Feature Importances')\n",
        "plt.barh(range(len(indices)), importances[indices], color='b', align='center')\n",
        "plt.yticks(range(len(indices)), [features[i] for i in indices])\n",
        "plt.xlabel('Relative Importance')\n",
        "plt.show()"
      ],
      "execution_count": null,
      "outputs": [
        {
          "output_type": "stream",
          "text": [
            "\n",
            " Best hyperparameters:\n",
            "{'max_depth': 50, 'max_features': 5, 'min_samples_split': 2, 'n_estimators': 100}\n",
            "Average Score on train set: 0.980 +/- 0.002\n",
            "Average Score on validation set: 0.855 +/- 0.065\n"
          ],
          "name": "stdout"
        },
        {
          "output_type": "display_data",
          "data": {
            "image/png": "[encoded data removed]",
            "text/plain": [
              "<Figure size 432x288 with 1 Axes>"
            ]
          },
          "metadata": {
            "tags": [],
            "needs_background": "light"
          }
        }
      ]
    },
    {
      "cell_type": "markdown",
      "metadata": {
        "id": "We1moJwubKoA"
      },
      "source": [
        "Podemos ver que usando o *Grid Search* os melhores parâmetros selecionados foram ```max_depth```de 50, ```max_features```de 5 e um número de estimadores de 100. O R² na base de validação subiu 0,02, ficando maior que nas nossas tentativas anteriores.\n",
        "\n",
        "As variáveis mais importantes foram **LSTAT** e **RM**, que são o percentual de baixa renda na população e a média de quartos por habitação. Será que esses resultados fazem sentido?"
      ]
    },
    {
      "cell_type": "code",
      "metadata": {
        "id": "87ulXUZzbKoB",
        "colab": {
          "base_uri": "https://localhost:8080/",
          "height": 527
        },
        "outputId": "078290fe-f122-4479-9a1b-0571978c3bc6"
      },
      "source": [
        "# Desenhando o gráfico de valores previstos por valores reais\n",
        "y_pred = rf_model_cv_gs.predict(X_val)\n",
        "plt.figure(figsize=(16,8))\n",
        "plt.title('Boston House Prices - Predicted vs Real',fontsize=20)\n",
        "df = pd.DataFrame({'real':y_val,'RF':rf_model_cv_gs.predict(X_val)})\n",
        "df.sort_values(by=['real'],ascending=True,inplace=True)\n",
        "df = df.reset_index(drop=True)\n",
        "plt.plot(df)\n",
        "plt.legend(['Real price','RF Predicted price'],fontsize=20)\n",
        "plt.ylabel('$ Price',fontsize=20)\n",
        "plt.xlabel('Observations ordered by price',fontsize=20)\n",
        "plt.show()"
      ],
      "execution_count": null,
      "outputs": [
        {
          "output_type": "display_data",
          "data": {
            "image/png": "[encoded data removed]",
            "text/plain": [
              "<Figure size 1152x576 with 1 Axes>"
            ]
          },
          "metadata": {
            "tags": [],
            "needs_background": "light"
          }
        }
      ]
    },
    {
      "cell_type": "markdown",
      "metadata": {
        "id": "Vg5KGTG5bKoG"
      },
      "source": [
        "### 5.2. Light GBM"
      ]
    },
    {
      "cell_type": "markdown",
      "metadata": {
        "id": "ell_AsFEbKoI"
      },
      "source": [
        "#### 5.2.1. Teoria\n",
        "*Light GBM*, ou *Light Gradient Boosting Machine*, é um modelo de *ensemble*, como o *Extreme Gradient Boosting* presente na aula de classificação. A principal diferença entre o *Light GBM* e a maioria dos outros métodos de *boosting* é que ele usa um mecanismo diferente para a criação das árvores, que é mais rápido.\n",
        "\n",
        "A maioria dos métodos de *boosting* funcionam da seguinte forma:\n",
        "\n",
        "<img src = https://cdn-images-1.medium.com/max/800/1*whSa8rY4sgFQj1rEcWr8Ag.png width=600>\n",
        "\n",
        "Enquanto o *Light GMB* funciona mais parecido com essa forma:\n",
        "\n",
        "<img src = https://cdn-images-1.medium.com/max/1600/1*AZsSoXb8lc5N6mnhqX5JCg.png width=600>\n",
        "\n",
        "Então podemos dizer que o *Light GBM* cria suas árvores **verticalmente**, enquanto outros algoritmos as criam **horizontalmente**. Em outras palavras, o *Light GBM* cresce suas árvores por folha, enquanto os demais crescem suas árvores por níveis. Assim, ele decide a quebra a ser feita na árvore pela folha que terá o maior ganho de informação.\n",
        "\n",
        "Para mais detalhes de como o *Light GBM* funciona, veja [aqui](https://medium.com/@pushkarmandot/https-medium-com-pushkarmandot-what-is-lightgbm-how-to-implement-it-how-to-fine-tune-the-parameters-60347819b7fc) para um artigo do Medium e [aqui](https://towardsdatascience.com/catboost-vs-light-gbm-vs-xgboost-5f93620723db) para um artigo do Towards Data Science que compara diferentes algoritmos de *boosting*.\n",
        "\n",
        "Além disso, [esse vídeo](https://www.youtube.com/watch?v=5CWwwtEM2TA) (a partir dos 10 minutos) explica um pouco mais a teoria por trás do *Light GBM*.\n",
        "\n",
        "Adicionalmente, veja [essa página](https://lightgbm.readthedocs.io/en/latest/Experiments.html) que mostra alguns experimentos comparando o *XGBoost* e o *LightGBM* em termos de velocidade, acurácia e uso de memória. Os resultados são surpreendentes!"
      ]
    },
    {
      "cell_type": "markdown",
      "metadata": {
        "id": "irercUn2bKoK"
      },
      "source": [
        "#### 5.2.2. Código em Python e Avaliação\n",
        "\n",
        "A primeira coisa que precisamos fazer é instalar o pacote do Light GBM."
      ]
    },
    {
      "cell_type": "code",
      "metadata": {
        "id": "L5ccQzotbKoK",
        "scrolled": false,
        "colab": {
          "base_uri": "https://localhost:8080/"
        },
        "outputId": "d3a41dbc-81f0-4b79-f3a8-b6bb04160853"
      },
      "source": [
        "import sys\n",
        "!{sys.executable} -m pip install lightgbm"
      ],
      "execution_count": null,
      "outputs": [
        {
          "output_type": "stream",
          "text": [
            "Requirement already satisfied: lightgbm in /usr/local/lib/python3.7/dist-packages (2.2.3)\n",
            "Requirement already satisfied: scikit-learn in /usr/local/lib/python3.7/dist-packages (from lightgbm) (0.22.2.post1)\n",
            "Requirement already satisfied: numpy in /usr/local/lib/python3.7/dist-packages (from lightgbm) (1.19.5)\n",
            "Requirement already satisfied: scipy in /usr/local/lib/python3.7/dist-packages (from lightgbm) (1.4.1)\n",
            "Requirement already satisfied: joblib>=0.11 in /usr/local/lib/python3.7/dist-packages (from scikit-learn->lightgbm) (1.0.1)\n"
          ],
          "name": "stdout"
        }
      ]
    },
    {
      "cell_type": "markdown",
      "metadata": {
        "id": "YckLKDhTbKoN"
      },
      "source": [
        "Agora importamos tudo o que precisamos. O mais importante é o ```Light GBM```, que chamaremos de **lgb**. Seria necessário também importar as métricas de avaliação dos modelos, mas já fizemos isso no caso do *random forest*."
      ]
    },
    {
      "cell_type": "code",
      "metadata": {
        "id": "6q_4M-sdbKoO"
      },
      "source": [
        "import lightgbm as lgb"
      ],
      "execution_count": null,
      "outputs": []
    },
    {
      "cell_type": "markdown",
      "metadata": {
        "id": "Ucdy-I77bKoU"
      },
      "source": [
        "Agora vamos treinar nosso primeiro modelo de *Light GBM*. Podemos começar?\n",
        "\n",
        "Esse passo é bem parecido com o do *random forest*. Basicamente, é: criar o objeto do modelo de random forest com seus hiperparâmetros. Já que estamos com um problema de regressão, vamos usar a classe ```LGBMRegressor```. Você consegue ver os parâmetros disponíveis para criar esse objeto [aqui](https://lightgbm.readthedocs.io/en/latest/Parameters.html). Já que existem centenas de parâmetros para o *Light GBM*, há uma lista das implicações da maioria dos parâmetros [aqui](https://lightgbm.readthedocs.io/en/latest/Parameters-Tuning.html).\n",
        "\n",
        "Os principais parâmetros que vamos usar nessa aula são:\n",
        "- **task \\[padrão = train\\]**: use 'train' para treinar o modelo e 'predict' para aplicá-lo em uma nova base\n",
        "- **objective \\[padrão = regression\\]**: define o tipo de problema e a função objetivo a ser utilizada\n",
        "- **num_leaves \\[padrão = 31\\]**: número máximo de folhas em uma árvore\n",
        "- **min_data_in_leaf \\[padrão = 20\\]**: quantidade mínima de dados em cada folha. Pode ser utilizado para lidar com o *over-fitting*, já que caso haja pouco dado em uma folha, as chances daquele comportamento só existir na base de treino são maiores\n",
        "- **max_depth \\[padrão = -1\\]**: < 0 significa sem limite. Limita a profundidade máxima do modelo. Isso é útil para lidar com o *over-fitting* quando o dado é pequeno. A árvore continua sendo criada por folhas\n",
        "- **max_bin \\[padrão = 255\\]**: número máximo de classes em que os valores das *features* serão agrupados. Um número pequeno de classes pode reduzir a acurácia de treino, mas lidar melhor com o *over-fitting*\n",
        "- **min_gain_to_split \\[padrão = 0.0\\]**: o ganho de informação mínimo para fazer uma quebra na árvore\n",
        "- **learning_rate \\[padrão = 0.1\\]**: taxa de aprendizagem, quanto menor, melhor para a acurácia\n",
        "- **num_iterations \\[padrão = 100\\]**: número de iterações do *boosting*, quanto maior, maior as chances de convergencia\n",
        "- **metric \\[padrão = \"\", changes according to objective\\]**: define a métrica de avaliação do treino\n",
        "\n",
        "Como feito com o *random forest*, iniciaremos com os hiperparâmetros padrões no nosso primeiro modelo."
      ]
    },
    {
      "cell_type": "code",
      "metadata": {
        "id": "Ked13GxfbKoU",
        "colab": {
          "base_uri": "https://localhost:8080/",
          "height": 387
        },
        "outputId": "34d228df-5244-4144-fff3-49f2b9baf89b"
      },
      "source": [
        "##### LightGBM 1\n",
        "# criando o objeto do modelo com LGBMRegressor\n",
        "lgb_model_1 = lgb.LGBMRegressor(random_state = seed)\n",
        "\n",
        "# treinando o modelo com os dados de treino\n",
        "lgb_model_1.fit(X_train, y_train)\n",
        "\n",
        "# prevendo com o modelo nos dados de validação\n",
        "y_pred = lgb_model_1.predict(X_val)\n",
        "\n",
        "# calculando e imprimindo algumas métricas\n",
        "print(\"Score on training set: {:.3f}\".format(lgb_model_1.score(X_train, y_train)))\n",
        "print(\"Score on validation set: {:.3f}\".format(lgb_model_1.score(X_val, y_val)))\n",
        "y = [lgb_model_1.score(X_train, y_train), \n",
        "     lgb_model_1.score(X_val, y_val)]\n",
        "x = [\"Train Score\", \"Test Score\"]\n",
        "width = 1/2\n",
        "plt.bar(x, y, width, color=\"blue\") \n",
        "print(\"Explained variance score: {:.3f}\".format(explained_variance_score(y_val, y_pred)))\n",
        "print(\"Mean absolute error (MAE): {:.3f}\".format(mean_absolute_error(y_val, y_pred)))\n",
        "print(\"Mean squared error (MSE): {:.3f}\".format(mean_squared_error(y_val, y_pred)))\n",
        "print(\"Mean squared log error (MSLE): {:.3f}\".format(mean_squared_log_error(y_val, y_pred)))\n",
        "print(\"R² Score: {:.3f}\".format(r2_score(y_val, y_pred)))"
      ],
      "execution_count": null,
      "outputs": [
        {
          "output_type": "stream",
          "text": [
            "Score on training set: 0.966\n",
            "Score on validation set: 0.731\n",
            "Explained variance score: 0.732\n",
            "Mean absolute error (MAE): 2.698\n",
            "Mean squared error (MSE): 16.521\n",
            "Mean squared log error (MSLE): 0.039\n",
            "R² Score: 0.731\n"
          ],
          "name": "stdout"
        },
        {
          "output_type": "display_data",
          "data": {
            "image/png": "[encoded data removed]",
            "text/plain": [
              "<Figure size 432x288 with 1 Axes>"
            ]
          },
          "metadata": {
            "tags": [],
            "needs_background": "light"
          }
        }
      ]
    },
    {
      "cell_type": "markdown",
      "metadata": {
        "id": "2q6HTaf5bKoZ"
      },
      "source": [
        "Como podemos ver, o modelo treinado tem um R² de 96,6% nos dados de treinos e 73,1% nos dados de validação, representando uma diferença de 23,5% entre eles.\n",
        "\n",
        "Mais uma vez obtivemos R²s bem diferentes nos dados de treino e validação com os hiperparâmetros padrões, indicando um *over-fitting*. Então vamos mexer um pouco com eles para tentar melhorar isso.\n",
        "\n",
        "Relembrando algumas características dos hiperparâmetros:\n",
        "\n",
        "- **max_depth**: valores maiores vai deixar as árvores mais profundas, tendo mais folhas e, consequentemente, com mais chance de *over-fitting*\n",
        "- **learning_rate**: a taxa na qual o modelo vai aprender novas informações a cada iteração. Valores menores fazem o modelo ser mais demorado, mas melhor. Valores maiores trará mais ganho de informação mais rapidamente, mas com mais chance de *over-fitting*\n",
        "- **num_leaves**: quanto maior esse número, mais o modelo tentará aprender sobre os dados de treino. Tentar aprender demais poderá causar *over-fitting*. Adicionalmente, quanto menor o *learning_rate*, maior deve ser o *num_leaves* para o mesmo grau de aprendizagem\n",
        "- **min_data_in_leaf**: aumentar esse número vai restringir mais a quebra das folhas\n",
        "- **min_gain_to_split**: similar à métrica acima mas calculado pelo ganho de informação\n",
        "\n",
        "Mais uma vez, todos os parâmetros estão inicialmente nos seus valores padrão, use o botão **Run Interact** para testar quantas vezes quiser!"
      ]
    },
    {
      "cell_type": "code",
      "metadata": {
        "id": "_KaqwZPQbKoZ",
        "scrolled": false,
        "colab": {
          "base_uri": "https://localhost:8080/",
          "height": 241,
          "referenced_widgets": [
            "935b775d8be14a5aaf3dc533090a6861",
            "4adeff7dd89c4e1995eb6704a73e2faf",
            "9f26fb7684ec4852b45a316a4cd442af",
            "8afbabca80aa4bb58363407627407077",
            "a773f41162b842eb8e870c4c777d1bcd",
            "73bb283b6ee34961a1c1a78561a86e41",
            "146b6f5cf55241e58cfda892d88b4925",
            "aeba8d1fad8c4bcd885232c0701994e1",
            "8ee6d5f0792b4a058c57ad6530d94147",
            "d78b1eddba51459f8931ad1fae6cf9cb",
            "aa1623cb8c0b49c6812683290588d466",
            "cf5d1cf1511343409f1712ba78efd43c",
            "7a568b111b764c74be1574b990b2a03b",
            "8d668d7a1de24878b12179f493ac1024",
            "5debfa1dff7a47f48d9d27614367d4f6",
            "81357945b8e946acbe6f4735655f7dca",
            "94d893737f0644138b4daaee42a4c1a2",
            "d1840f08b33f4e8d88a91a909efe55e2",
            "70e98a34b7fd4b6ca644a7acea6f9323",
            "8f4eab7cb11541cc8b2703cdc9e35ffa",
            "e0f56530a0914ef4ba1e1edd4f2c14ec",
            "29323275973b4ae49fee2d89f42ffb53",
            "de4bebb7b7c54c2badb6e9b1a007fdd4",
            "7c625e15c17c404ba9594b3d43fa81f3",
            "b681b7a736a243d4ab58128aec34b43e"
          ]
        },
        "outputId": "233ae9a3-112d-41dc-a20c-f5f376d9d9a6"
      },
      "source": [
        "##### LightGBM 2\n",
        "\n",
        "from IPython.display import display\n",
        "from ipywidgets import interact_manual, IntSlider, FloatSlider\n",
        "def teste_treino(maxDepth, learningRate, numIterations, numLeaves, minDataInLeaf, minGainToSplit):\n",
        "    \n",
        "    # criando o objeto do modelo com LGBMRegressor\n",
        "    lgb_model_2 = lgb.LGBMRegressor(max_depth = maxDepth,\n",
        "                                    learning_rate = learningRate, \n",
        "                                    num_iterations = numIterations, \n",
        "                                    num_leaves = numLeaves,\n",
        "                                    min_data_in_leaf = minDataInLeaf,\n",
        "                                    min_gain_to_split = minGainToSplit,\n",
        "                                    random_state = seed)\n",
        "\n",
        "    # treinando o modelo com os dados de treino\n",
        "    lgb_model_2.fit(X_train, y_train)\n",
        "\n",
        "    # prevendo com o modelo nos dados de validação\n",
        "    y_pred = lgb_model_2.predict(X_val)\n",
        "\n",
        "    # calculando e imprimindo algumas métricas\n",
        "    \n",
        "    print(\"Score on training set: {:.3f}\".format(lgb_model_2.score(X_train, y_train)))\n",
        "    print(\"Score on validation set: {:.3f}\".format(lgb_model_2.score(X_val, y_val)))\n",
        "    y = [lgb_model_2.score(X_train, y_train), \n",
        "         lgb_model_2.score(X_val, y_val)]\n",
        "    x = [\"Train Score\", \"Test Score\"]\n",
        "    width = 1/2\n",
        "    plt.bar(x, y, width, color=\"blue\")  \n",
        "    print(\"Explained variance score: {:.3f}\".format(explained_variance_score(y_val, y_pred)))\n",
        "    print(\"Mean absolute error (MAE): {:.3f}\".format(mean_absolute_error(y_val, y_pred)))\n",
        "    print(\"Mean squared error (MSE): {:.3f}\".format(mean_squared_error(y_val, y_pred)))\n",
        "    print(\"Mean squared log error (MSLE): {:.3f}\".format(mean_squared_log_error(y_val, y_pred)))\n",
        "    print(\"R² Score: {:.3f}\".format(r2_score(y_val, y_pred)))\n",
        "    \n",
        "# essas são as linhas de código para criar os seletores\n",
        "_ = interact_manual(teste_treino, \n",
        "             maxDepth =       IntSlider(min = 2, max = 50, step = 1, value = 20),\n",
        "             learningRate =   FloatSlider(min = 0.001, max = 0.3, step = 0.001, value = 0.1),\n",
        "             numIterations =  IntSlider(min = 20, max = 600, step = 20, value = 100),\n",
        "             numLeaves =      IntSlider(min = 20, max = 300, step = 20, value = 100),\n",
        "             minDataInLeaf =  IntSlider(min = 2, max = 50, step = 1, value = 20),\n",
        "             minGainToSplit = FloatSlider(min =0., max = 30, step = 1., value = 0.0))"
      ],
      "execution_count": null,
      "outputs": [
        {
          "output_type": "display_data",
          "data": {
            "application/vnd.jupyter.widget-view+json": {
              "model_id": "935b775d8be14a5aaf3dc533090a6861",
              "version_minor": 0,
              "version_major": 2
            },
            "text/plain": [
              "interactive(children=(IntSlider(value=20, description='maxDepth', max=50, min=2), FloatSlider(value=0.1, descr…"
            ]
          },
          "metadata": {
            "tags": []
          }
        }
      ]
    },
    {
      "cell_type": "markdown",
      "metadata": {
        "id": "YyO5I4InbKoc"
      },
      "source": [
        "Tente abaixar o *learning_rate* para 0,05, aumentar o número de iterações para 300 e reduzir a quantidade mínima em cada folha. Isso deve melhorar o R² da base de validação ainda mais, o que significa que estaríamos diminuindo o *over-fitting*.\n",
        "\n",
        "Agora vamos utilizar a validação cruzada com o *Light GBM*. O processo é bastante parecido com o feito com o *random forest*."
      ]
    },
    {
      "cell_type": "code",
      "metadata": {
        "id": "3eVlvL8VbKod",
        "colab": {
          "base_uri": "https://localhost:8080/",
          "height": 318
        },
        "outputId": "ab08788a-ea35-4fbb-818f-82b8b6005fde"
      },
      "source": [
        "# Light GBM com validação cruzada\n",
        "\n",
        "# importando a função de grid search do sklearn\n",
        "from sklearn.model_selection import GridSearchCV\n",
        "\n",
        "# definindo os valores possíveis dos parâmetros a serem testados\n",
        "params = {}\n",
        "\n",
        "# criando o objeto do modelo com XGBClassifier\n",
        "lgb_model_cv = lgb.LGBMRegressor(random_state = seed)\n",
        "\n",
        "# criando o objeto do grid search com GridSearchCV\n",
        "grid_search = GridSearchCV(lgb_model_cv, param_grid=params, return_train_score=True) #default value for splitting is 3\n",
        "\n",
        "# treinando o modelo com o grid search\n",
        "grid_search.fit(X_training, y_training)\n",
        "\n",
        "# pegando os resultados da validação cruzada (cv_results)\n",
        "cv_results = pd.DataFrame(grid_search.cv_results_)\n",
        "\n",
        "# imprimindo o score médio nas bases de treino\n",
        "print(\"Average Score on validation set: {:.3f} +/- {:.3f}\".format(cv_results[cv_results.rank_test_score == 1].mean_train_score.values[0],\n",
        "                                                                     cv_results[cv_results.rank_test_score == 1].std_train_score.values[0]))\n",
        "\n",
        "# imprimindo o score médio nas bases de validação\n",
        "print(\"Average Score on validation set: {:.3f} +/- {:.3f}\".format(cv_results[cv_results.rank_test_score == 1].mean_test_score.values[0],\n",
        "                                                                     cv_results[cv_results.rank_test_score == 1].std_test_score.values[0]))\n",
        "\n",
        "y = [cv_results[cv_results.rank_test_score == 1].mean_train_score.values[0], \n",
        "     cv_results[cv_results.rank_test_score == 1].mean_test_score.values[0]]\n",
        "x = [\"Train Score\", \"Test Score\"]\n",
        "width = 1/2\n",
        "plt.bar(x, y, width, color=\"blue\")  "
      ],
      "execution_count": null,
      "outputs": [
        {
          "output_type": "stream",
          "text": [
            "Average Score on validation set: 0.965 +/- 0.005\n",
            "Average Score on validation set: 0.825 +/- 0.082\n"
          ],
          "name": "stdout"
        },
        {
          "output_type": "execute_result",
          "data": {
            "text/plain": [
              "<BarContainer object of 2 artists>"
            ]
          },
          "metadata": {
            "tags": []
          },
          "execution_count": 19
        },
        {
          "output_type": "display_data",
          "data": {
            "image/png": "[encoded data removed]",
            "text/plain": [
              "<Figure size 432x288 with 1 Axes>"
            ]
          },
          "metadata": {
            "tags": [],
            "needs_background": "light"
          }
        }
      ]
    },
    {
      "cell_type": "markdown",
      "metadata": {
        "id": "Rb1GpoYIbKoh"
      },
      "source": [
        "Mais uma vez, pudemos ver um crescimento no R² de validação ao utilizar a validação cruzada, assim como verificamos com o *random forest*.\n",
        "\n",
        "Agora vamos utilizar o *grid search* com o *Light GBM*, de forma muito parecida com o que fizemos para o *random forest*.\n",
        "\n",
        "Atenção: isso pode levar algum tempo."
      ]
    },
    {
      "cell_type": "code",
      "metadata": {
        "id": "K0e0C8RWbKoi",
        "colab": {
          "base_uri": "https://localhost:8080/",
          "height": 231
        },
        "outputId": "1bbb43a1-0285-4614-8d47-b322c3fec071"
      },
      "source": [
        "# Light GBM com validação cruzada e Grid Search\n",
        "\n",
        "# definindo os valores possíveis dos parâmetros a serem testados\n",
        "params = {'max_depth': [2, 5, 10, 50],\n",
        "          'learning_rate': [0.01, 0.03, 0.1, 0.5],\n",
        "          'num_iterations': [50, 100, 200, 500],\n",
        "          'min_data_in_leaf': [5, 20, 50],\n",
        "          'min_gain_to_split': [0., 0.5, 1, 5]}\n",
        "\n",
        "# criando o objeto do modelo com XGBClassifier\n",
        "lgb_model_cv_gs = lgb.LGBMRegressor(random_state = seed)\n",
        "\n",
        "# criando o objeto do grid search com GridSearchCV\n",
        "grid_search = GridSearchCV(lgb_model_cv_gs, param_grid=params, return_train_score=True) #default value for splitting is 3\n",
        "\n",
        "# treinando o modelo com o grid search\n",
        "grid_search.fit(X_training, y_training)\n",
        "\n",
        "# # imprimindo a melhor combinação de hiperparâmetros\n",
        "print('\\n Best hyperparameters:')\n",
        "print(grid_search.best_params_)\n",
        "\n",
        "# pegando os resultados da validação cruzada (cv_results)\n",
        "cv_results = pd.DataFrame(grid_search.cv_results_)\n",
        "\n",
        "# imprimindo o score médio nas bases de treino\n",
        "print(\"Average Score on validation set: {:.3f} +/- {:.3f}\".format(cv_results[cv_results.rank_test_score == 1].mean_train_score.values[0],\n",
        "                                                                     cv_results[cv_results.rank_test_score == 1].std_train_score.values[0]))\n",
        "\n",
        "# imprimindo o score médio nas bases de validação\n",
        "print(\"Average Score on validation set: {:.3f} +/- {:.3f}\".format(cv_results[cv_results.rank_test_score == 1].mean_test_score.values[0],\n",
        "                                                                     cv_results[cv_results.rank_test_score == 1].std_test_score.values[0]))\n",
        "\n",
        "# configurando o modelo com a melhor combinação de hiperparâmetros\n",
        "lgb_model_cv_gs.set_params(max_depth = grid_search.best_params_['max_depth'],\n",
        "                           learning_rate = grid_search.best_params_['learning_rate'],\n",
        "                           min_data_in_leaf = grid_search.best_params_['min_data_in_leaf'],\n",
        "                           min_gain_to_split = grid_search.best_params_['min_gain_to_split'])\n",
        "\n",
        "# treinando um modelo com a melhor combinação de hiperparâmetros\n",
        "lgb_model_cv_gs.fit(X_training, y_training)\n",
        "\n",
        "# desenhando o gráfico de impoartância de variáveis\n",
        "features = estate_df['feature_names']\n",
        "importances = lgb_model_cv_gs.feature_importances_\n",
        "indices = np.argsort(importances)\n",
        "\n",
        "plt.title('Feature Importances')\n",
        "plt.barh(range(len(indices)), importances[indices], color='b', align='center')\n",
        "plt.yticks(range(len(indices)), [features[i] for i in indices])\n",
        "plt.xlabel('Relative Importance')\n",
        "plt.show()"
      ],
      "execution_count": null,
      "outputs": [
        {
          "output_type": "error",
          "ename": "NameError",
          "evalue": "ignored",
          "traceback": [
            "\u001b[0;31m---------------------------------------------------------------------------\u001b[0m",
            "\u001b[0;31mNameError\u001b[0m                                 Traceback (most recent call last)",
            "\u001b[0;32m<ipython-input-2-a5f9b383402c>\u001b[0m in \u001b[0;36m<module>\u001b[0;34m()\u001b[0m\n\u001b[1;32m      9\u001b[0m \u001b[0;34m\u001b[0m\u001b[0m\n\u001b[1;32m     10\u001b[0m \u001b[0;31m# criando o objeto do modelo com XGBClassifier\u001b[0m\u001b[0;34m\u001b[0m\u001b[0;34m\u001b[0m\u001b[0;34m\u001b[0m\u001b[0m\n\u001b[0;32m---> 11\u001b[0;31m \u001b[0mlgb_model_cv_gs\u001b[0m \u001b[0;34m=\u001b[0m \u001b[0mlgb\u001b[0m\u001b[0;34m.\u001b[0m\u001b[0mLGBMRegressor\u001b[0m\u001b[0;34m(\u001b[0m\u001b[0mrandom_state\u001b[0m \u001b[0;34m=\u001b[0m \u001b[0mseed\u001b[0m\u001b[0;34m)\u001b[0m\u001b[0;34m\u001b[0m\u001b[0;34m\u001b[0m\u001b[0m\n\u001b[0m\u001b[1;32m     12\u001b[0m \u001b[0;34m\u001b[0m\u001b[0m\n\u001b[1;32m     13\u001b[0m \u001b[0;31m# criando o objeto do grid search com GridSearchCV\u001b[0m\u001b[0;34m\u001b[0m\u001b[0;34m\u001b[0m\u001b[0;34m\u001b[0m\u001b[0m\n",
            "\u001b[0;31mNameError\u001b[0m: name 'lgb' is not defined"
          ]
        }
      ]
    },
    {
      "cell_type": "code",
      "metadata": {
        "id": "R3YaFYMKbKop",
        "colab": {
          "base_uri": "https://localhost:8080/",
          "height": 527
        },
        "outputId": "cf7c56bf-9ce0-4035-ed82-2ce90f1b2da8"
      },
      "source": [
        "# Desenhando o gráfico de valores previstos por valores reais\n",
        "y_pred = lgb_model_cv_gs.predict(X_val)\n",
        "plt.figure(figsize=(16,8))\n",
        "plt.title('Boston House Prices - Predicted vs Real',fontsize=20)\n",
        "df = pd.DataFrame({'real':y_val,'LGBM':lgb_model_cv_gs.predict(X_val)})\n",
        "df.sort_values(by=['real'],ascending=True,inplace=True)\n",
        "df = df.reset_index(drop=True)\n",
        "plt.plot(df)\n",
        "plt.legend(['Real price','LGBM Predicted price'],fontsize=20)\n",
        "plt.ylabel('$ Price',fontsize=20)\n",
        "plt.xlabel('Observations ordered by price',fontsize=20)\n",
        "plt.show()"
      ],
      "execution_count": null,
      "outputs": [
        {
          "output_type": "display_data",
          "data": {
            "image/png": "[encoded data removed]",
            "text/plain": [
              "<Figure size 1152x576 with 1 Axes>"
            ]
          },
          "metadata": {
            "tags": [],
            "needs_background": "light"
          }
        }
      ]
    },
    {
      "cell_type": "markdown",
      "metadata": {
        "id": "H9oljnkIbKos"
      },
      "source": [
        "O *grid search* selecionou o ```max_depth``` de 2, o ```min_data_in_leaf``` de 5 e o número de iterações de 500 na melhor iteração. O R² de validação aumentou para 0,871, melhor do que nas nossas tentativas anteriores!\n",
        "\n",
        "Dessa vez, as variáveis mais importantes foram **LSTAT** and **DIS**, que são o percentual de baixa renda na população e a distância média da casa para o centros empresariais de Boston. E dessa vez, isso faz sentido?"
      ]
    },
    {
      "cell_type": "markdown",
      "metadata": {
        "id": "jAD9U89h1o4S"
      },
      "source": [
        "### 5.3. Redes Neurais"
      ]
    },
    {
      "cell_type": "markdown",
      "metadata": {
        "id": "Xs30EEP-1ri7"
      },
      "source": [
        "#### 5.3.1. Teoria\n",
        "Diferentemente dos métodos anteriores, as redes neurais são inspiradas por estruturas biológicas. Como o próprio nome diz, esse método tenta criar uma rede de neurônios. Nosso cérebro é talvez a máquina mais poderosa que existe e contém uma rede muito grande de neurônios interconectados para que seja capaz de processar informações. Em resumo, a principal função dos neurônios é coletar as entradas de outros neurônios pelos dendritos. Cada neurônio soma todas suas entredas e, se o resultado for maior que um limiar, ele ativa. Essa ativação então libera um sinal pro próximo neurônio.\n",
        "\n",
        "Legal, não?! Mas como será que isso funciona como uma técnica de _Machine Learning_?\n",
        "\n",
        "Bom que você perguntou... rs. Em uma rede neural, o neurônio nada mais é do que um nome chique pra uma função. Então, ele basicamente recebe um conjunto de entrada, aplica alguma lógica, e dá o resultado na saída.\n",
        "\n",
        "E, assim, uma rede neural é uma rede de funções! Uma rede neural simples se parece com essa a seguir:\n",
        "\n",
        "![Imgur](https://upload.wikimedia.org/wikipedia/commons/1/1d/Neural_network_example.png)\n",
        "\n",
        "Como dá para ver na imagem acima, a rede neural é construída com 3 tipos de camadas:\n",
        "1. Camada de entrada (input layer): recebe os dados iniciais da rede neural\n",
        "2. Camadas escondidas (hidden leayers): camadas intermediárias entre as entradas e as saídas onde todo cálculo é feito\n",
        "3. Camada de saída (output layer): produz os resultados para as entradas dadas\n",
        "\n",
        "Cada nó é conectado com todos os nós da camada seguinte e cada conexão (setas pretas) tem um peso associado. Esse peso pode ser entendido como o impacto que aquele nó tem no nó da próxima camada.\n",
        "\n",
        "Essa é uma breve introdução da ideia da rede neural. Para melhor entendimento do funcionamento das redes, sugerimos as fontes a seguir:\n",
        "1. [Neural Networks Explained](https://www.youtube.com/watch?v=GvQwE2OhL8I&feature=youtu.be): vídeo de 12 minutos, mas que dá uma boa explicação sobre os conceitos básicos.\n",
        "2. [But what *is* a Neural Network?](https://www.youtube.com/watch?v=aircAruvnKk&feature=youtu.be): vídeo de 20 minutos, mas dá uma explicação boa e intuitiva, usando o problema de reconhecimento de números.\n",
        "3. [Artigo do Medium](https://medium.com/technologymadeeasy/for-dummies-the-introduction-to-neural-networks-we-all-need-c50f6012d5eb)\n",
        "4. [Using neural networks to recognized handwritting digits](http://neuralnetworksanddeeplearning.com/chap1.html)\n",
        "5. [Ferramenta de redes neurais](https://playground.tensorflow.org/#activation=tanh&batchSize=10&dataset=circle&regDataset=reg-plane&learningRate=0.03&regularizationRate=0&noise=0&networkShape=4&seed=0.66497&showTestData=false&discretize=false&percTrainData=50&x=true&y=true&xTimesY=true&xSquared=true&ySquared=true&cosX=false&sinX=false&cosY=false&sinY=false&collectStats=false&problem=classification&initZero=false&hideText=false)\n",
        "6. [Artigo do Towards data science](https://towardsdatascience.com/everything-you-need-to-know-about-neural-networks-and-backpropagation-machine-learning-made-easy-e5285bc2be3a)"
      ]
    },
    {
      "cell_type": "markdown",
      "metadata": {
        "id": "tTU2RTJS1w3S"
      },
      "source": [
        "#### 5.3.2. Código em Python e Avaliação\n",
        "\n",
        "Para construir um regressor usando uma rede neural, a primeira coisa que temos que fazer é importar ```MLPRegressor```da biblioteca ```sklearn```."
      ]
    },
    {
      "cell_type": "code",
      "metadata": {
        "id": "_0ar_6b51zD4"
      },
      "source": [
        "from sklearn.neural_network import MLPRegressor"
      ],
      "execution_count": null,
      "outputs": []
    },
    {
      "cell_type": "markdown",
      "metadata": {
        "id": "EIV8qeqY1zqM"
      },
      "source": [
        "Antes de fazermos de fato a nossa primeira rede neural, vamos ver quais são os principais atributos que temos para configurá-la.\n",
        "- <i>hidden_layer_sizes</i>: uma tupla, no qual o nº elemento representa o número de neurônios na nª camada escondida\n",
        "- <i>activation</i>: representa a função de ativação utilizada na camada escondida. Pode ser 'identity', 'logistic', 'tanh' ou 'relu'.\n",
        "- <i>solver</i>: o algoritmo de solução para a otimização dos pesos. Para _datasets_ pequenos 'lbfgs' converge mais rapidamente e tem bons resultados, enquanto 'adam' funciona melhor em dados relativamente grandes\n",
        "\n",
        "Se quiser entender melhor os demais hiperparâmetros, veja nesse [link](https://scikit-learn.org/stable/modules/generated/sklearn.neural_network.MLPRegressor.html)\n",
        "\n",
        "Dado que as redes neurais exploram as relações matemáticas entre as variáveis, a qualidade do nosso modelo pode ser afetada pelo fato das _features_ terem ordens de magnitudes diferentes. Imagine, por exemplo, um modelo que faz a soma de duas variáveis em uma camada: se uma delas for em média muito maior que a outra, ela automaticamente terá um peso maior no processo.\n",
        "\n",
        "Por isso, é importante normalizar as variáveis com um _scaler_:"
      ]
    },
    {
      "cell_type": "code",
      "metadata": {
        "id": "3Xy3DyJV13_S"
      },
      "source": [
        "from sklearn.preprocessing import StandardScaler\n",
        "\n",
        "sc = StandardScaler()\n",
        "X_train_scaled = sc.fit_transform(X_train)\n",
        "X_val_scaled = sc.transform(X_val)"
      ],
      "execution_count": null,
      "outputs": []
    },
    {
      "cell_type": "code",
      "metadata": {
        "id": "-Qsv60o916iC",
        "colab": {
          "base_uri": "https://localhost:8080/",
          "height": 385
        },
        "outputId": "e87e5dac-6954-4882-cf7d-d41465c1c705"
      },
      "source": [
        "# criando o objeto do modelo com MLPRegressor\n",
        "neural_network_model = MLPRegressor(activation='tanh', \n",
        "                                    solver = 'lbfgs',\n",
        "                                    hidden_layer_sizes=(2),\n",
        "                                    early_stopping = True)\n",
        "\n",
        "# treinando o modelo com os dados de treino\n",
        "neural_network_model.fit(X_train_scaled, y_train)\n",
        "\n",
        "# prever com o modelo nos dados de validacao\n",
        "y_pred = neural_network_model.predict(X_val_scaled)\n",
        "\n",
        "# calculando e imprimindo algumas métricas\n",
        "print(\"Score on training set: {:.3f}\".format(neural_network_model.score(X_train_scaled, y_train)))\n",
        "print(\"Score on validation set: {:.3f}\".format(neural_network_model.score(X_val_scaled, y_val)))\n",
        "y = [neural_network_model.score(X_train_scaled, y_train), \n",
        "     neural_network_model.score(X_val_scaled, y_val)]\n",
        "x = [\"Train Score\", \"Validation Score\"]\n",
        "width = 1/2\n",
        "plt.bar(x, y, width, color=\"blue\") \n",
        "print(\"Explained variance score: {:.3f}\".format(explained_variance_score(y_val, y_pred)))\n",
        "print(\"Mean absolute error (MAE): {:.3f}\".format(mean_absolute_error(y_val, y_pred)))\n",
        "print(\"Mean squared error (MSE): {:.3f}\".format(mean_squared_error(y_val, y_pred)))\n",
        "print(\"Mean squared log error (MSLE): {:.3f}\".format(mean_squared_log_error(y_val, [x if x >= 0 else 0 for x in y_pred]))) # tratando valores negativos que podem ser previstos pela rede neural\n",
        "print(\"R² Score: {:.3f}\".format(r2_score(y_val, y_pred)))"
      ],
      "execution_count": null,
      "outputs": [
        {
          "output_type": "stream",
          "text": [
            "Score on training set: 0.742\n",
            "Score on validation set: 0.573\n",
            "Explained variance score: 0.574\n",
            "Mean absolute error (MAE): 3.687\n",
            "Mean squared error (MSE): 26.270\n",
            "Mean squared log error (MSLE): 0.064\n",
            "R² Score: 0.573\n"
          ],
          "name": "stdout"
        },
        {
          "output_type": "display_data",
          "data": {
            "image/png": "[encoded data removed]",
            "text/plain": [
              "<Figure size 432x288 with 1 Axes>"
            ]
          },
          "metadata": {
            "tags": [],
            "needs_background": "light"
          }
        }
      ]
    },
    {
      "cell_type": "code",
      "metadata": {
        "id": "sHs7zRkR18Q3",
        "colab": {
          "base_uri": "https://localhost:8080/",
          "height": 527
        },
        "outputId": "f20d8b24-17db-4377-9983-b9232bbba242"
      },
      "source": [
        "# Desenhando o gráfico de valores previstos por valores reais\n",
        "y_pred = neural_network_model.predict(X_val_scaled)\n",
        "plt.figure(figsize=(16,8))\n",
        "plt.title('Boston House Prices - Predicted vs Real',fontsize=20)\n",
        "df = pd.DataFrame({'real':y_val,'NN':neural_network_model.predict(X_val_scaled)})\n",
        "df.sort_values(by=['real'],ascending=True,inplace=True)\n",
        "df = df.reset_index(drop=True)\n",
        "plt.plot(df)\n",
        "plt.legend(['Real price','Neural Network Predicted price'],fontsize=20)\n",
        "plt.ylabel('$ Price',fontsize=20)\n",
        "plt.xlabel('Observations ordered by price',fontsize=20)\n",
        "plt.show()"
      ],
      "execution_count": null,
      "outputs": [
        {
          "output_type": "display_data",
          "data": {
            "image/png": "[encoded data removed]",
            "text/plain": [
              "<Figure size 1152x576 with 1 Axes>"
            ]
          },
          "metadata": {
            "tags": [],
            "needs_background": "light"
          }
        }
      ]
    },
    {
      "cell_type": "markdown",
      "metadata": {
        "id": "S7Q0Jq971-F3"
      },
      "source": [
        "Você pode tentar mudar o número de neurônios em cada camada e ver como isso altera o resultado.\n",
        "\n",
        "Não entraremos muito nos demais detalhes da teoria e da otimização das redes neurais."
      ]
    },
    {
      "cell_type": "markdown",
      "metadata": {
        "id": "-6sLLNb7bKo-"
      },
      "source": [
        "### 5.4 Comparação entre os modelos"
      ]
    },
    {
      "cell_type": "markdown",
      "metadata": {
        "id": "KsFq84WobKo_"
      },
      "source": [
        "Por fim, vamos desenhar todos os resultados no mesmo gráfico para tentarmos verificar qual modelo se adequa melhor aos dados reais."
      ]
    },
    {
      "cell_type": "code",
      "metadata": {
        "id": "c6gF4ph0bKo_",
        "colab": {
          "base_uri": "https://localhost:8080/",
          "height": 1000
        },
        "outputId": "df49ecb4-e382-4409-99b6-1eef5ddc5365"
      },
      "source": [
        "# Desenhando o gráfico de valores previstos por valores reais para ambos os modelos\n",
        "plt.figure(figsize=(16,10))\n",
        "plt.title('Boston House Prices - Predicted vs Real',fontsize=20)\n",
        "df = pd.DataFrame({'real':y_val,'Random Forest':rf_model_cv_gs.predict(X_val),'LGBM':lgb_model_cv_gs.predict(X_val),'NN':neural_network_model.predict(X_val_scaled)})\n",
        "df.sort_values(by=['real'],ascending=True,inplace=True)\n",
        "df = df.reset_index(drop=True)\n",
        "plt.plot(df)\n",
        "plt.legend(['Real price','Predicted RF price','Predicted LGBM price','Predicted NN price'],fontsize=20)\n",
        "plt.ylabel('$ Price',fontsize=20)\n",
        "plt.xlabel('Observations ordered by price',fontsize=20)\n",
        "plt.show()\n",
        "\n",
        "plt.figure(figsize=(16,10))\n",
        "plt.title('Boston House Prices - Predicted vs Real',fontsize=20)\n",
        "plt.scatter(x=df['real'],y=df['Random Forest'],c='y')\n",
        "plt.scatter(x=df['real'],y=df['LGBM'],c='g')\n",
        "plt.scatter(x=df['real'],y=df['NN'],c='r')\n",
        "plt.plot([0,50],[0,50],'k--')\n",
        "plt.axis([0,51,0,51])\n",
        "plt.legend(['Real price','Predicted RF price','Predicted LGBM price','Predicted NN price'],fontsize=20)\n",
        "plt.xlabel('Real price',fontsize=20)\n",
        "plt.ylabel('Predicted price',fontsize=20)\n",
        "plt.show()"
      ],
      "execution_count": null,
      "outputs": [
        {
          "output_type": "display_data",
          "data": {
            "image/png": "[encoded data removed]",
            "text/plain": [
              "<Figure size 1152x720 with 1 Axes>"
            ]
          },
          "metadata": {
            "tags": [],
            "needs_background": "light"
          }
        },
        {
          "output_type": "display_data",
          "data": {
            "image/png": "[encoded data removed]",
            "text/plain": [
              "<Figure size 1152x720 with 1 Axes>"
            ]
          },
          "metadata": {
            "tags": [],
            "needs_background": "light"
          }
        }
      ]
    },
    {
      "cell_type": "markdown",
      "metadata": {
        "id": "GIqrjDRQbKpD"
      },
      "source": [
        "Pelos gráficos, parece que o nosso modelo mais simples (o *random forest*) se adequou melhor. Isso pode ocorrer devido ao fato da nossa base dedados ser relativamente pequena. Em geral, modelos mais complexos como os de *boosting* ou as redes neurais precisam de mais dados para não apresentarem *over-fitting*.\n",
        "\n",
        "O segundo gráfico nos dá outra visão da acurácia dos modelos. O *random forest* é visivelmente mais próximo da linha que representa os valores reais, o que significa que ele é melhor."
      ]
    },
    {
      "cell_type": "markdown",
      "metadata": {
        "id": "3gi3vv9TbKp4"
      },
      "source": [
        "<a id=\"digdeeper\"></a>\n",
        "## 6. Saiba mais\n",
        "\n",
        "* [Selecting the best ML algorithm for your regression problem](https://towardsdatascience.com/selecting-the-best-machine-learning-algorithm-for-your-regression-problem-20c330bad4ef)\n",
        "* [Regression vs Classification](https://medium.com/quick-code/regression-versus-classification-machine-learning-whats-the-difference-345c56dd15f7)\n",
        "* [XGBoost Algorithm: Long May She Reign!](https://towardsdatascience.com/https-medium-com-vishalmorde-xgboost-algorithm-long-she-may-rein-edd9f99be63d)"
      ]
    }
  ]
}